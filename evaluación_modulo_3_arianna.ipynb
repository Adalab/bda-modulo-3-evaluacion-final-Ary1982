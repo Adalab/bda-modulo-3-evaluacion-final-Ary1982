{
 "cells": [
  {
   "cell_type": "markdown",
   "metadata": {},
   "source": [
    "## FASE 1: EXPLORACIÓN Y LIMPIEZA\n",
    "\n",
    "### 1. Exploración inicial: \n",
    "\n",
    "- Realiza una exploración inicial de los datos para identificar posibles problemas, como valores nulos, atípicos o datos faltantes en las columnas relevantes.\n",
    "\n",
    "- Utiliza funciones de Pandas para obtener información sobre la estructura de los datos, la presencia de valores nulos y estadisticas básicas de las columnas involucradas.\n",
    "\n",
    "- Une los dos conjuntos de datos de la forma más eficiente.\n",
    "\n",
    "### 2. Limpieza de datos:\n",
    "\n",
    "- Elimina o trata los valores nulos, si los hay, en las columnas clave para asegurar que los datos estén completos.\n",
    "\n",
    "- Verifica la consistencia y corrección de los datos para asegurarte de que los datos se presenten de forma coherente.\n",
    "\n",
    "- Realiza cualquier ajuste o conversión necesaria en las columnas (por ejemplo, cambiar tipos de datos) para garantizar la adecuación de los datos para el análisis estadístico."
   ]
  },
  {
   "cell_type": "code",
   "execution_count": 84,
   "metadata": {},
   "outputs": [],
   "source": [
    "# Tratamiento de datos\n",
    "# -----------------------------------------------------------------------\n",
    "import pandas as pd\n",
    "import numpy as np\n",
    "\n",
    "# Imputación de nulos usando métodos avanzados estadísticos\n",
    "# -----------------------------------------------------------------------\n",
    "from sklearn.impute import SimpleImputer\n",
    "from sklearn.experimental import enable_iterative_imputer\n",
    "from sklearn.impute import IterativeImputer\n",
    "from sklearn.impute import KNNImputer\n",
    "\n",
    "# Librerías de visualización\n",
    "# -----------------------------------------------------------------------\n",
    "import seaborn as sns\n",
    "import matplotlib.pyplot as plt\n",
    "\n",
    "# Configuración\n",
    "# -----------------------------------------------------------------------\n",
    "pd.set_option('display.max_columns', None) # para poder visualizar todas las columnas de los DataFrames"
   ]
  },
  {
   "cell_type": "code",
   "execution_count": 85,
   "metadata": {},
   "outputs": [
    {
     "name": "stdout",
     "output_type": "stream",
     "text": [
      "Fichero Customer Flight:\n",
      "\n",
      "       Loyalty Number,Year,Month,Flights Booked,Flights with Companions,Total Flights,Distance,Points Accumulated,Points Redeemed,Dollar Cost Points Redeemed\n",
      "0                        100018,2017,1,3,0,3,1521,152,0,0                                                                                                    \n",
      "1                      100102,2017,1,10,4,14,2030,203,0,0                                                                                                    \n",
      "2                        100140,2017,1,6,0,6,1200,120,0,0                                                                                                    \n",
      "3                             100214,2017,1,0,0,0,0,0,0,0                                                                                                    \n",
      "4                             100272,2017,1,0,0,0,0,0,0,0                                                                                                    \n",
      "...                                                   ...                                                                                                    \n",
      "405619                       999902,2018,12,0,0,0,0,0,0,0                                                                                                    \n",
      "405620                       999911,2018,12,0,0,0,0,0,0,0                                                                                                    \n",
      "405621                  999940,2018,12,3,0,3,1233,123,0,0                                                                                                    \n",
      "405622                       999982,2018,12,0,0,0,0,0,0,0                                                                                                    \n",
      "405623                       999986,2018,12,0,0,0,0,0,0,0                                                                                                    \n",
      "\n",
      "[405624 rows x 1 columns]\n",
      "\n",
      " - - - - - - - - - - - - - - - - - - - \n",
      "\n",
      "Fichero Customer Loyalty:\n",
      "\n",
      "      Loyalty Number,Country,Province,City,Postal Code,Gender,Education,Salary,Marital Status,Loyalty Card,CLV,Enrollment Type,Enrollment Year,Enrollment Month,Cancellation Year,Cancellation Month\n",
      "0      480934,Canada,Ontario,Toronto,M2Z 4K1,Female,B...                                                                                                                                            \n",
      "1      549612,Canada,Alberta,Edmonton,T3G 6Y6,Male,Co...                                                                                                                                            \n",
      "2      429460,Canada,British Columbia,Vancouver,V6E 3...                                                                                                                                            \n",
      "3      608370,Canada,Ontario,Toronto,P1W 1K4,Male,Col...                                                                                                                                            \n",
      "4      530508,Canada,Quebec,Hull,J8Y 3Z5,Male,Bachelo...                                                                                                                                            \n",
      "...                                                  ...                                                                                                                                            \n",
      "16732  823768,Canada,British Columbia,Vancouver,V6E 3...                                                                                                                                            \n",
      "16733  680886,Canada,Saskatchewan,Regina,S1J 3C5,Fema...                                                                                                                                            \n",
      "16734  776187,Canada,British Columbia,Vancouver,V5R 1...                                                                                                                                            \n",
      "16735  906428,Canada,Yukon,Whitehorse,Y2K 6R0,Male,Ba...                                                                                                                                            \n",
      "16736  652627,Canada,Manitoba,Winnipeg,R2C 0M5,Female...                                                                                                                                            \n",
      "\n",
      "[16737 rows x 1 columns]\n"
     ]
    }
   ],
   "source": [
    "# Aplico una función para leer los datos de los dos ficheros:\n",
    "def leer_datos(ruta, sep=\",\"):\n",
    "\n",
    "    df = pd.read_csv(ruta, sep=sep)\n",
    "    return df\n",
    "\n",
    "# Para hacer la llamada de la función\n",
    "df_customer_flight=leer_datos('customer_flight_activity.csv', sep=\";\")\n",
    "print(f'Fichero Customer Flight:\\n')\n",
    "print(df_customer_flight)\n",
    "\n",
    "print(\"\\n - - - - - - - - - - - - - - - - - - - \\n\")\n",
    "\n",
    "df_customer_loyalty=leer_datos('customer_loyalty_history.csv', sep=\";\")\n",
    "print(f'Fichero Customer Loyalty:\\n')\n",
    "print(df_customer_loyalty)"
   ]
  },
  {
   "cell_type": "markdown",
   "metadata": {},
   "source": [
    "**Abriendo los ficheros, me doy cuenta de que tienen todas las variables en una única columna.**\n",
    "\n",
    "**Hay que separarlas, usando la coma cómo separador de columnas.**"
   ]
  },
  {
   "cell_type": "code",
   "execution_count": 86,
   "metadata": {},
   "outputs": [
    {
     "data": {
      "text/html": [
       "<div>\n",
       "<style scoped>\n",
       "    .dataframe tbody tr th:only-of-type {\n",
       "        vertical-align: middle;\n",
       "    }\n",
       "\n",
       "    .dataframe tbody tr th {\n",
       "        vertical-align: top;\n",
       "    }\n",
       "\n",
       "    .dataframe thead th {\n",
       "        text-align: right;\n",
       "    }\n",
       "</style>\n",
       "<table border=\"1\" class=\"dataframe\">\n",
       "  <thead>\n",
       "    <tr style=\"text-align: right;\">\n",
       "      <th></th>\n",
       "      <th>Loyalty Number</th>\n",
       "      <th>Year</th>\n",
       "      <th>Month</th>\n",
       "      <th>Flights Booked</th>\n",
       "      <th>Flights with Companions</th>\n",
       "      <th>Total Flights</th>\n",
       "      <th>Distance</th>\n",
       "      <th>Points Accumulated</th>\n",
       "      <th>Points Redeemed</th>\n",
       "      <th>Dollar Cost Points Redeemed</th>\n",
       "    </tr>\n",
       "  </thead>\n",
       "  <tbody>\n",
       "    <tr>\n",
       "      <th>0</th>\n",
       "      <td>100018</td>\n",
       "      <td>2017</td>\n",
       "      <td>1</td>\n",
       "      <td>3</td>\n",
       "      <td>0</td>\n",
       "      <td>3</td>\n",
       "      <td>1521</td>\n",
       "      <td>152</td>\n",
       "      <td>0</td>\n",
       "      <td>0</td>\n",
       "    </tr>\n",
       "    <tr>\n",
       "      <th>1</th>\n",
       "      <td>100102</td>\n",
       "      <td>2017</td>\n",
       "      <td>1</td>\n",
       "      <td>10</td>\n",
       "      <td>4</td>\n",
       "      <td>14</td>\n",
       "      <td>2030</td>\n",
       "      <td>203</td>\n",
       "      <td>0</td>\n",
       "      <td>0</td>\n",
       "    </tr>\n",
       "    <tr>\n",
       "      <th>2</th>\n",
       "      <td>100140</td>\n",
       "      <td>2017</td>\n",
       "      <td>1</td>\n",
       "      <td>6</td>\n",
       "      <td>0</td>\n",
       "      <td>6</td>\n",
       "      <td>1200</td>\n",
       "      <td>120</td>\n",
       "      <td>0</td>\n",
       "      <td>0</td>\n",
       "    </tr>\n",
       "    <tr>\n",
       "      <th>3</th>\n",
       "      <td>100214</td>\n",
       "      <td>2017</td>\n",
       "      <td>1</td>\n",
       "      <td>0</td>\n",
       "      <td>0</td>\n",
       "      <td>0</td>\n",
       "      <td>0</td>\n",
       "      <td>0</td>\n",
       "      <td>0</td>\n",
       "      <td>0</td>\n",
       "    </tr>\n",
       "    <tr>\n",
       "      <th>4</th>\n",
       "      <td>100272</td>\n",
       "      <td>2017</td>\n",
       "      <td>1</td>\n",
       "      <td>0</td>\n",
       "      <td>0</td>\n",
       "      <td>0</td>\n",
       "      <td>0</td>\n",
       "      <td>0</td>\n",
       "      <td>0</td>\n",
       "      <td>0</td>\n",
       "    </tr>\n",
       "  </tbody>\n",
       "</table>\n",
       "</div>"
      ],
      "text/plain": [
       "  Loyalty Number  Year Month Flights Booked Flights with Companions  \\\n",
       "0         100018  2017     1              3                       0   \n",
       "1         100102  2017     1             10                       4   \n",
       "2         100140  2017     1              6                       0   \n",
       "3         100214  2017     1              0                       0   \n",
       "4         100272  2017     1              0                       0   \n",
       "\n",
       "  Total Flights Distance Points Accumulated Points Redeemed  \\\n",
       "0             3     1521                152               0   \n",
       "1            14     2030                203               0   \n",
       "2             6     1200                120               0   \n",
       "3             0        0                  0               0   \n",
       "4             0        0                  0               0   \n",
       "\n",
       "  Dollar Cost Points Redeemed  \n",
       "0                           0  \n",
       "1                           0  \n",
       "2                           0  \n",
       "3                           0  \n",
       "4                           0  "
      ]
     },
     "execution_count": 86,
     "metadata": {},
     "output_type": "execute_result"
    }
   ],
   "source": [
    "#Voy a dividir la columna de Customer Flight en 10 columnas, utilizando las comas para dividir las columnas:\n",
    "\n",
    "df_split_flight = df_customer_flight[\n",
    "    'Loyalty Number,Year,Month,Flights Booked,Flights with Companions,Total Flights,Distance,Points Accumulated,Points Redeemed,Dollar Cost Points Redeemed'\n",
    "    ].str.split(',', expand=True) \n",
    "\n",
    "# Voy a asignar los nombres a las columnas:\n",
    "df_split_flight.columns = [\n",
    "    'Loyalty Number', 'Year', 'Month', 'Flights Booked', 'Flights with Companions',\n",
    "    'Total Flights', 'Distance', 'Points Accumulated', 'Points Redeemed',\n",
    "    'Dollar Cost Points Redeemed'\n",
    "]\n",
    "\n",
    "# Con head visualizo las primeras 5 filas de mi nuevo dataframe\n",
    "df_split_flight.head()"
   ]
  },
  {
   "cell_type": "code",
   "execution_count": 87,
   "metadata": {},
   "outputs": [
    {
     "data": {
      "text/html": [
       "<div>\n",
       "<style scoped>\n",
       "    .dataframe tbody tr th:only-of-type {\n",
       "        vertical-align: middle;\n",
       "    }\n",
       "\n",
       "    .dataframe tbody tr th {\n",
       "        vertical-align: top;\n",
       "    }\n",
       "\n",
       "    .dataframe thead th {\n",
       "        text-align: right;\n",
       "    }\n",
       "</style>\n",
       "<table border=\"1\" class=\"dataframe\">\n",
       "  <thead>\n",
       "    <tr style=\"text-align: right;\">\n",
       "      <th></th>\n",
       "      <th>Loyalty Number</th>\n",
       "      <th>Country</th>\n",
       "      <th>Province</th>\n",
       "      <th>City</th>\n",
       "      <th>Postal Code</th>\n",
       "      <th>Gender</th>\n",
       "      <th>Education</th>\n",
       "      <th>Salary</th>\n",
       "      <th>Marital Status</th>\n",
       "      <th>Loyalty Card</th>\n",
       "      <th>CLV</th>\n",
       "      <th>Enrollment Type</th>\n",
       "      <th>Enrollment Year</th>\n",
       "      <th>Enrollment Month</th>\n",
       "      <th>Cancellation Year</th>\n",
       "      <th>Cancellation Month</th>\n",
       "    </tr>\n",
       "  </thead>\n",
       "  <tbody>\n",
       "    <tr>\n",
       "      <th>0</th>\n",
       "      <td>480934</td>\n",
       "      <td>Canada</td>\n",
       "      <td>Ontario</td>\n",
       "      <td>Toronto</td>\n",
       "      <td>M2Z 4K1</td>\n",
       "      <td>Female</td>\n",
       "      <td>Bachelor</td>\n",
       "      <td>83236</td>\n",
       "      <td>Married</td>\n",
       "      <td>Star</td>\n",
       "      <td>3839.14</td>\n",
       "      <td>Standard</td>\n",
       "      <td>2016</td>\n",
       "      <td>2</td>\n",
       "      <td></td>\n",
       "      <td></td>\n",
       "    </tr>\n",
       "    <tr>\n",
       "      <th>1</th>\n",
       "      <td>549612</td>\n",
       "      <td>Canada</td>\n",
       "      <td>Alberta</td>\n",
       "      <td>Edmonton</td>\n",
       "      <td>T3G 6Y6</td>\n",
       "      <td>Male</td>\n",
       "      <td>College</td>\n",
       "      <td></td>\n",
       "      <td>Divorced</td>\n",
       "      <td>Star</td>\n",
       "      <td>3839.61</td>\n",
       "      <td>Standard</td>\n",
       "      <td>2016</td>\n",
       "      <td>3</td>\n",
       "      <td></td>\n",
       "      <td></td>\n",
       "    </tr>\n",
       "    <tr>\n",
       "      <th>2</th>\n",
       "      <td>429460</td>\n",
       "      <td>Canada</td>\n",
       "      <td>British Columbia</td>\n",
       "      <td>Vancouver</td>\n",
       "      <td>V6E 3D9</td>\n",
       "      <td>Male</td>\n",
       "      <td>College</td>\n",
       "      <td></td>\n",
       "      <td>Single</td>\n",
       "      <td>Star</td>\n",
       "      <td>3839.75</td>\n",
       "      <td>Standard</td>\n",
       "      <td>2014</td>\n",
       "      <td>7</td>\n",
       "      <td>2018</td>\n",
       "      <td>1</td>\n",
       "    </tr>\n",
       "    <tr>\n",
       "      <th>3</th>\n",
       "      <td>608370</td>\n",
       "      <td>Canada</td>\n",
       "      <td>Ontario</td>\n",
       "      <td>Toronto</td>\n",
       "      <td>P1W 1K4</td>\n",
       "      <td>Male</td>\n",
       "      <td>College</td>\n",
       "      <td></td>\n",
       "      <td>Single</td>\n",
       "      <td>Star</td>\n",
       "      <td>3839.75</td>\n",
       "      <td>Standard</td>\n",
       "      <td>2013</td>\n",
       "      <td>2</td>\n",
       "      <td></td>\n",
       "      <td></td>\n",
       "    </tr>\n",
       "    <tr>\n",
       "      <th>4</th>\n",
       "      <td>530508</td>\n",
       "      <td>Canada</td>\n",
       "      <td>Quebec</td>\n",
       "      <td>Hull</td>\n",
       "      <td>J8Y 3Z5</td>\n",
       "      <td>Male</td>\n",
       "      <td>Bachelor</td>\n",
       "      <td>103495</td>\n",
       "      <td>Married</td>\n",
       "      <td>Star</td>\n",
       "      <td>3842.79</td>\n",
       "      <td>Standard</td>\n",
       "      <td>2014</td>\n",
       "      <td>10</td>\n",
       "      <td></td>\n",
       "      <td></td>\n",
       "    </tr>\n",
       "  </tbody>\n",
       "</table>\n",
       "</div>"
      ],
      "text/plain": [
       "  Loyalty Number Country          Province       City Postal Code  Gender  \\\n",
       "0         480934  Canada           Ontario    Toronto     M2Z 4K1  Female   \n",
       "1         549612  Canada           Alberta   Edmonton     T3G 6Y6    Male   \n",
       "2         429460  Canada  British Columbia  Vancouver     V6E 3D9    Male   \n",
       "3         608370  Canada           Ontario    Toronto     P1W 1K4    Male   \n",
       "4         530508  Canada            Quebec       Hull     J8Y 3Z5    Male   \n",
       "\n",
       "  Education  Salary Marital Status Loyalty Card      CLV Enrollment Type  \\\n",
       "0  Bachelor   83236        Married         Star  3839.14        Standard   \n",
       "1   College               Divorced         Star  3839.61        Standard   \n",
       "2   College                 Single         Star  3839.75        Standard   \n",
       "3   College                 Single         Star  3839.75        Standard   \n",
       "4  Bachelor  103495        Married         Star  3842.79        Standard   \n",
       "\n",
       "  Enrollment Year Enrollment Month Cancellation Year Cancellation Month  \n",
       "0            2016                2                                       \n",
       "1            2016                3                                       \n",
       "2            2014                7              2018                  1  \n",
       "3            2013                2                                       \n",
       "4            2014               10                                       "
      ]
     },
     "execution_count": 87,
     "metadata": {},
     "output_type": "execute_result"
    }
   ],
   "source": [
    "# En el fichero Loyalty, voy a dividir la columna en 16 columnas, utilizando las comas para dividir las columnas\n",
    "\n",
    "df_split_loyalty = df_customer_loyalty[\n",
    "    'Loyalty Number,Country,Province,City,Postal Code,Gender,Education,Salary,Marital Status,Loyalty Card,CLV,Enrollment Type,Enrollment Year,Enrollment Month,Cancellation Year,Cancellation Month'\n",
    "    ].str.split(',', expand=True) \n",
    "\n",
    "# Voy a asignar los nombres a las columnas:\n",
    "df_split_loyalty.columns = [\n",
    "   'Loyalty Number', 'Country', 'Province', 'City', 'Postal Code', 'Gender', 'Education', \n",
    "   'Salary', 'Marital Status', 'Loyalty Card', 'CLV' , 'Enrollment Type', 'Enrollment Year', \n",
    "   'Enrollment Month', 'Cancellation Year', 'Cancellation Month'\n",
    "]\n",
    "\n",
    "df_split_loyalty.head()"
   ]
  },
  {
   "cell_type": "markdown",
   "metadata": {},
   "source": [
    "**Ahora que tengo los ficheros divididos en columnas, voy a analizarlos con una función para comprobar si hay valores nulos, duplicados, atípicos o datos faltantes.**"
   ]
  },
  {
   "cell_type": "code",
   "execution_count": 88,
   "metadata": {},
   "outputs": [
    {
     "name": "stdout",
     "output_type": "stream",
     "text": [
      "Dataframe actividad vuelos clientes:\n",
      "Tamaño del dataset:\n",
      "Filas: 405624, Columnas: 10\n",
      "\n",
      "Tipos de datos:\n"
     ]
    },
    {
     "data": {
      "text/plain": [
       "Loyalty Number                 object\n",
       "Year                           object\n",
       "Month                          object\n",
       "Flights Booked                 object\n",
       "Flights with Companions        object\n",
       "Total Flights                  object\n",
       "Distance                       object\n",
       "Points Accumulated             object\n",
       "Points Redeemed                object\n",
       "Dollar Cost Points Redeemed    object\n",
       "dtype: object"
      ]
     },
     "metadata": {},
     "output_type": "display_data"
    },
    {
     "name": "stdout",
     "output_type": "stream",
     "text": [
      "\n",
      "Valores_nulos:\n"
     ]
    },
    {
     "data": {
      "text/plain": [
       "Loyalty Number                 0\n",
       "Year                           0\n",
       "Month                          0\n",
       "Flights Booked                 0\n",
       "Flights with Companions        0\n",
       "Total Flights                  0\n",
       "Distance                       0\n",
       "Points Accumulated             0\n",
       "Points Redeemed                0\n",
       "Dollar Cost Points Redeemed    0\n",
       "dtype: int64"
      ]
     },
     "metadata": {},
     "output_type": "display_data"
    },
    {
     "name": "stdout",
     "output_type": "stream",
     "text": [
      "Filas duplicadas en el dataset:\n",
      "Filas: 1864\n",
      "_ _ _ _ _ _ _ _ _ _ _ _ _ _ _ _ \n",
      "\n",
      "Dataframe historial clientes:\n",
      "Tamaño del dataset:\n",
      "Filas: 16737, Columnas: 16\n",
      "\n",
      "Tipos de datos:\n"
     ]
    },
    {
     "data": {
      "text/plain": [
       "Loyalty Number        object\n",
       "Country               object\n",
       "Province              object\n",
       "City                  object\n",
       "Postal Code           object\n",
       "Gender                object\n",
       "Education             object\n",
       "Salary                object\n",
       "Marital Status        object\n",
       "Loyalty Card          object\n",
       "CLV                   object\n",
       "Enrollment Type       object\n",
       "Enrollment Year       object\n",
       "Enrollment Month      object\n",
       "Cancellation Year     object\n",
       "Cancellation Month    object\n",
       "dtype: object"
      ]
     },
     "metadata": {},
     "output_type": "display_data"
    },
    {
     "name": "stdout",
     "output_type": "stream",
     "text": [
      "\n",
      "Valores_nulos:\n"
     ]
    },
    {
     "data": {
      "text/plain": [
       "Loyalty Number        0\n",
       "Country               0\n",
       "Province              0\n",
       "City                  0\n",
       "Postal Code           0\n",
       "Gender                0\n",
       "Education             0\n",
       "Salary                0\n",
       "Marital Status        0\n",
       "Loyalty Card          0\n",
       "CLV                   0\n",
       "Enrollment Type       0\n",
       "Enrollment Year       0\n",
       "Enrollment Month      0\n",
       "Cancellation Year     0\n",
       "Cancellation Month    0\n",
       "dtype: int64"
      ]
     },
     "metadata": {},
     "output_type": "display_data"
    },
    {
     "name": "stdout",
     "output_type": "stream",
     "text": [
      "Filas duplicadas en el dataset:\n",
      "Filas: 0\n"
     ]
    }
   ],
   "source": [
    "def explorar_dataset(df): # Función generica para una visión general del dataset\n",
    "\n",
    "    print(\"Tamaño del dataset:\")# Tamaño del dataset (filas y columnas)\n",
    "    print(f\"Filas: {df.shape[0]}, Columnas: {df.shape[1]}\") # Tamaño del dataset (filas y columnas)\n",
    "    print(\"\\nTipos de datos:\") # Tipos de datos por columna\n",
    "    display(df.dtypes)\n",
    "    print(\"\\nValores_nulos:\") # Valores nulos\n",
    "    display(df.isnull().sum())\n",
    "    print(\"Filas duplicadas en el dataset:\")\n",
    "    print(f\"Filas: {df.duplicated().sum()}\") # Calculando la cantidad de filas duplicadas en el df\n",
    "\n",
    "\n",
    "\n",
    "# Llamamos a la función para ver los datos de cadauno de los df e imprimimos resultados:\n",
    "\n",
    "print(f'Dataframe actividad vuelos clientes:')\n",
    "explorar_dataset(df_split_flight)\n",
    "print('_ _ _ _ _ _ _ _ _ _ _ _ _ _ _ _', '\\n')\n",
    "print(f'Dataframe historial clientes:')\n",
    "explorar_dataset(df_split_loyalty)\n"
   ]
  },
  {
   "cell_type": "markdown",
   "metadata": {},
   "source": [
    "#### Hay algunos aspectos importantes a considerar:\n",
    "\n",
    "#### Hay valores vacíos en algunas columnas ('Salary', 'Cancellation Year' y 'Cancellation Month'). \n",
    "\n",
    "#### Son valores faltantes que tengo que tratar en la fase de limpieza.\n",
    "#### Para verificar duplicados de manera más efectiva, voy a enfocarme en el 'Loyalty Number', ya que es un identificador único para cada cliente. "
   ]
  },
  {
   "cell_type": "code",
   "execution_count": 89,
   "metadata": {},
   "outputs": [
    {
     "name": "stdout",
     "output_type": "stream",
     "text": [
      "Número de Loyalty Numbers duplicados en df flight: 388887\n",
      "\n",
      "Loyalty Numbers duplicados en df flight:\n",
      "['100504' '100504' '101902' ... '999940' '999982' '999986']\n"
     ]
    }
   ],
   "source": [
    "# Verificar duplicados de Loyalty Number en el df flight\n",
    "duplicados_flight = df_split_flight[df_split_flight.duplicated(subset=['Loyalty Number'], keep='first')]\n",
    "print(\"Número de Loyalty Numbers duplicados en df flight:\", len(duplicados_flight))\n",
    "\n",
    "# Ver los Loyalty Number que están duplicados (si hay alguno)\n",
    "if len(duplicados_flight) > 0:\n",
    "    print(\"\\nLoyalty Numbers duplicados en df flight:\")\n",
    "    print(duplicados_flight['Loyalty Number'].values)"
   ]
  },
  {
   "cell_type": "markdown",
   "metadata": {},
   "source": [
    "#### Los valores duplicados en este df tienen sentido, son debidos a que un cliente puede haber reservado más vuelos.\n",
    "#### Hay que tenerlo en cuenta a la hora de unir los dos df."
   ]
  },
  {
   "cell_type": "markdown",
   "metadata": {},
   "source": [
    "#### COMPROBAMOS CON LOS VALORES ÚNICOS EN LOS DOS DF:"
   ]
  },
  {
   "cell_type": "code",
   "execution_count": 90,
   "metadata": {},
   "outputs": [
    {
     "name": "stdout",
     "output_type": "stream",
     "text": [
      "VALORES ÚNICOS EN DF FLIGHT:\n",
      "\n",
      "Loyalty Number: 16737 valores únicos\n",
      "Year: 2 valores únicos\n",
      "Month: 12 valores únicos\n",
      "Flights Booked: 22 valores únicos\n",
      "Flights with Companions: 12 valores únicos\n",
      "Total Flights: 33 valores únicos\n",
      "Distance: 4746 valores únicos\n",
      "Points Accumulated: 1549 valores únicos\n",
      "Points Redeemed: 587 valores únicos\n",
      "Dollar Cost Points Redeemed: 49 valores únicos\n",
      "_ _ _ _ _ _ _ _ _ _ _ _ _ _ _ _ \n",
      "\n",
      "VALORES ÚNICOS EN DF LOYALTY:\n",
      "\n",
      "Loyalty Number: 16737 valores únicos\n",
      "Country: 1 valores únicos\n",
      "Province: 11 valores únicos\n",
      "City: 29 valores únicos\n",
      "Postal Code: 55 valores únicos\n",
      "Gender: 2 valores únicos\n",
      "Education: 5 valores únicos\n",
      "Salary: 5891 valores únicos\n",
      "Marital Status: 3 valores únicos\n",
      "Loyalty Card: 3 valores únicos\n",
      "CLV: 7984 valores únicos\n",
      "Enrollment Type: 2 valores únicos\n",
      "Enrollment Year: 7 valores únicos\n",
      "Enrollment Month: 12 valores únicos\n",
      "Cancellation Year: 7 valores únicos\n",
      "Cancellation Month: 13 valores únicos\n"
     ]
    }
   ],
   "source": [
    "# Verificar el número de valores únicos en cada columna de los dos df:\n",
    "\n",
    "print('VALORES ÚNICOS EN DF FLIGHT:\\n')\n",
    "\n",
    "for columna in df_split_flight.columns: \n",
    "    n_unicos = df_split_flight[columna].nunique() # Valores unicos en cada columna\n",
    "\n",
    "    print(f\"{columna}: {n_unicos} valores únicos\")\n",
    "\n",
    "print('_ _ _ _ _ _ _ _ _ _ _ _ _ _ _ _', '\\n')\n",
    "\n",
    "print('VALORES ÚNICOS EN DF LOYALTY:\\n')\n",
    "\n",
    "for columna in df_split_loyalty.columns:\n",
    "    n_unicos = df_split_loyalty[columna].nunique()\n",
    "\n",
    "    print(f\"{columna}: {n_unicos} valores únicos\")\n",
    "\n",
    "\n",
    "    "
   ]
  },
  {
   "cell_type": "markdown",
   "metadata": {},
   "source": [
    "#### Como pensaba, el numero de valores unicos de Loyalty Number coincide en ambos df.\n",
    "#### Y ahora me han llamado la atención más detalles:\n",
    "\n",
    "- Quiero ver los 2 tipos de enrollment type (df loyalty)\n",
    "- Porque en cancelacion_month hay 13 valores? (df loyalty)\n",
    "- Es bastante curioso que en el df loyalty coincidan el numero de enrollment year y cancelation year, comprobaré esos datos"
   ]
  },
  {
   "cell_type": "code",
   "execution_count": 93,
   "metadata": {},
   "outputs": [
    {
     "name": "stdout",
     "output_type": "stream",
     "text": [
      "Los dos tipos de Enrollment son: ['Standard' '2018 Promotion']\n"
     ]
    }
   ],
   "source": [
    "# Ver los dos tipos de enrollment type:\n",
    "\n",
    "print(f'Los dos tipos de Enrollment son:', df_split_loyalty['Enrollment Type'].unique()) "
   ]
  },
  {
   "cell_type": "code",
   "execution_count": 94,
   "metadata": {},
   "outputs": [
    {
     "name": "stdout",
     "output_type": "stream",
     "text": [
      "Los 13 valores de Cancellation Month son: ['' '1' '12' '4' '2' '7' '11' '5' '6' '10' '8' '9' '3']\n"
     ]
    }
   ],
   "source": [
    "# Ver los valores unicos de cancelation month:\n",
    "\n",
    "print(f'Los 13 valores de Cancellation Month son:', df_split_loyalty['Cancellation Month'].unique()) "
   ]
  },
  {
   "cell_type": "code",
   "execution_count": 95,
   "metadata": {},
   "outputs": [
    {
     "data": {
      "text/plain": [
       "0"
      ]
     },
     "execution_count": 95,
     "metadata": {},
     "output_type": "execute_result"
    }
   ],
   "source": [
    "#¿Hay valores nulos en cancellation month? ¿como puedo tratarlos?\n",
    "\n",
    "df_split_loyalty['Cancellation Month'].isnull().sum()  # Veamos la cantidad de nulos en la columna"
   ]
  },
  {
   "cell_type": "code",
   "execution_count": 96,
   "metadata": {},
   "outputs": [
    {
     "data": {
      "text/plain": [
       "Cancellation Month\n",
       "      14670\n",
       "12      213\n",
       "11      212\n",
       "8       208\n",
       "7       186\n",
       "10      180\n",
       "9       176\n",
       "6       165\n",
       "1       155\n",
       "3       149\n",
       "5       148\n",
       "2       139\n",
       "4       136\n",
       "Name: count, dtype: int64"
      ]
     },
     "execution_count": 96,
     "metadata": {},
     "output_type": "execute_result"
    }
   ],
   "source": [
    "df_split_loyalty['Cancellation Month'].value_counts()  # Devuelve el conteo de cada valor único en la columna Cancellation Month. "
   ]
  },
  {
   "cell_type": "markdown",
   "metadata": {},
   "source": [
    "#### No son nulos, son registros faltantes. \n",
    "\n",
    "#### Probablemente es porque esos clientes no han cancelado. Vamos a ver si se repite lo mismo en los años:"
   ]
  },
  {
   "cell_type": "code",
   "execution_count": 97,
   "metadata": {},
   "outputs": [
    {
     "name": "stdout",
     "output_type": "stream",
     "text": [
      "Cancellation Year\n",
      "        14670\n",
      "2018      645\n",
      "2017      506\n",
      "2016      427\n",
      "2015      265\n",
      "2014      181\n",
      "2013       43\n",
      "Name: count, dtype: int64\n"
     ]
    }
   ],
   "source": [
    "conteo_datos = df_split_loyalty['Cancellation Year'].value_counts()  # Devuelve el conteo de cada valor único en la columna Cancellation Year.\n",
    "print(conteo_datos)"
   ]
  },
  {
   "cell_type": "markdown",
   "metadata": {},
   "source": [
    "#### Efectivamente, coincide el numero de datos faltantes, así que voy a reemplazar esos valores y ya de paso, aprovecho para cambiar también los registros de Enrollment Month y Month (que ahora son numeros) con los nombres de los meses, para que los datos sean más legibles. \n"
   ]
  },
  {
   "cell_type": "code",
   "execution_count": 98,
   "metadata": {},
   "outputs": [
    {
     "name": "stdout",
     "output_type": "stream",
     "text": [
      "  Enrollment Month Cancellation Month\n",
      "0         February      Active Member\n",
      "1            March      Active Member\n",
      "2             July            January\n",
      "3         February      Active Member\n",
      "4          October      Active Member\n",
      "5              May      Active Member\n",
      "6             June      Active Member\n",
      "7         December      Active Member\n",
      "8              May      Active Member\n",
      "9          October      Active Member\n",
      "\n",
      " - - - - - - - - - - - - - - - - - - \n",
      "\n",
      "     Month\n",
      "0  January\n",
      "1  January\n",
      "2  January\n",
      "3  January\n",
      "4  January\n",
      "5  January\n",
      "6  January\n",
      "7  January\n",
      "8  January\n",
      "9  January\n"
     ]
    }
   ],
   "source": [
    "# Crear diccionario para mapear números a nombres de meses\n",
    "meses = {\n",
    "    '1': 'January', '2': 'February', '3': 'March',\n",
    "    '4': 'April', '5': 'May', '6': 'June',\n",
    "    '7': 'July', '8': 'August', '9': 'September',\n",
    "    '10': 'October', '11': 'November', '12': 'December'\n",
    "}\n",
    "\n",
    "# Aplicar el mapeo a la columna de Enrollment Month del df loyalty y Month del df flight:\n",
    "df_split_loyalty['Enrollment Month'] = df_split_loyalty['Enrollment Month'].map(meses)\n",
    "df_split_flight['Month'] = df_split_flight['Month'].map(meses)\n",
    "\n",
    "# Para Cancellation Month, primero hacemos el mapeo y luego reemplazamos los NaN\n",
    "df_split_loyalty['Cancellation Month'] = df_split_loyalty['Cancellation Month'].map(meses)\n",
    "df_split_loyalty['Cancellation Month'] = df_split_loyalty['Cancellation Month'].fillna('Active Member')\n",
    "\n",
    "# Verificar el cambio\n",
    "print(df_split_loyalty[['Enrollment Month', 'Cancellation Month']].head(10))\n",
    "print('\\n - - - - - - - - - - - - - - - - - - \\n')\n",
    "print(df_split_flight[['Month']].head(10))\n"
   ]
  },
  {
   "cell_type": "code",
   "execution_count": 99,
   "metadata": {},
   "outputs": [
    {
     "name": "stdout",
     "output_type": "stream",
     "text": [
      "Tipo de dato de Cancellation Year: object\n",
      "\n",
      "Primeras filas después del cambio:\n",
      "  Cancellation Year Cancellation Month\n",
      "0            Active      Active Member\n",
      "1            Active      Active Member\n",
      "2              2018            January\n",
      "3            Active      Active Member\n",
      "4            Active      Active Member\n",
      "5            Active      Active Member\n",
      "6            Active      Active Member\n",
      "7            Active      Active Member\n",
      "8            Active      Active Member\n",
      "9            Active      Active Member\n"
     ]
    }
   ],
   "source": [
    "# Verificar el tipo de dato de Cancellation Year\n",
    "print(\"Tipo de dato de Cancellation Year:\", df_split_loyalty['Cancellation Year'].dtype)\n",
    "\n",
    "# Hacer el cambio asegurándonos de manejar los valores vacíos\n",
    "df_split_loyalty['Cancellation Year'] = df_split_loyalty['Cancellation Year'].replace('', 'Active') \n",
    "# Uso replace porque los valores faltantes son cadenas con espacios vacios (' ')\n",
    "\n",
    "\n",
    "# Verificar el cambio\n",
    "print(\"\\nPrimeras filas después del cambio:\")\n",
    "print(df_split_loyalty[['Cancellation Year', 'Cancellation Month']].head(10))"
   ]
  },
  {
   "cell_type": "markdown",
   "metadata": {},
   "source": [
    "### Limpieza, pasos a seguir:\n",
    "\n",
    "- Convertir 'Salary' y 'CLV' a tipo numérico\n",
    "- Cambiar los nombres de los meses (o sea, sustituir los numeros con los nombres de los meses) para que los datos sean más legibles\n",
    "- Tratar los valores vacíos en 'Salary'\n",
    "- Decidir cómo manejar los registros sin fecha de cancelación (que probablemente son clientes activos)\n",
    "\n",
    "#### Nota bene: todos los registros del df son de Canadá, pero no se puede considerar duplicado, simplemente es una caracteristica. Puedo decidir eliminar la columna si voy a trabajar solo con este df o dejarla por si voy a integrar otros df en un segundo momento (de otros paises)."
   ]
  },
  {
   "cell_type": "code",
   "execution_count": 100,
   "metadata": {},
   "outputs": [
    {
     "data": {
      "text/html": [
       "<div>\n",
       "<style scoped>\n",
       "    .dataframe tbody tr th:only-of-type {\n",
       "        vertical-align: middle;\n",
       "    }\n",
       "\n",
       "    .dataframe tbody tr th {\n",
       "        vertical-align: top;\n",
       "    }\n",
       "\n",
       "    .dataframe thead th {\n",
       "        text-align: right;\n",
       "    }\n",
       "</style>\n",
       "<table border=\"1\" class=\"dataframe\">\n",
       "  <thead>\n",
       "    <tr style=\"text-align: right;\">\n",
       "      <th></th>\n",
       "      <th>Loyalty Number</th>\n",
       "      <th>Country</th>\n",
       "      <th>Province</th>\n",
       "      <th>City</th>\n",
       "      <th>Postal Code</th>\n",
       "      <th>Gender</th>\n",
       "      <th>Education</th>\n",
       "      <th>Salary</th>\n",
       "      <th>Marital Status</th>\n",
       "      <th>Loyalty Card</th>\n",
       "      <th>CLV</th>\n",
       "      <th>Enrollment Type</th>\n",
       "      <th>Enrollment Year</th>\n",
       "      <th>Enrollment Month</th>\n",
       "      <th>Cancellation Year</th>\n",
       "      <th>Cancellation Month</th>\n",
       "    </tr>\n",
       "  </thead>\n",
       "  <tbody>\n",
       "    <tr>\n",
       "      <th>0</th>\n",
       "      <td>480934</td>\n",
       "      <td>Canada</td>\n",
       "      <td>Ontario</td>\n",
       "      <td>Toronto</td>\n",
       "      <td>M2Z 4K1</td>\n",
       "      <td>Female</td>\n",
       "      <td>Bachelor</td>\n",
       "      <td>83236</td>\n",
       "      <td>Married</td>\n",
       "      <td>Star</td>\n",
       "      <td>3839.14</td>\n",
       "      <td>Standard</td>\n",
       "      <td>2016</td>\n",
       "      <td>February</td>\n",
       "      <td>Active</td>\n",
       "      <td>Active Member</td>\n",
       "    </tr>\n",
       "    <tr>\n",
       "      <th>1</th>\n",
       "      <td>549612</td>\n",
       "      <td>Canada</td>\n",
       "      <td>Alberta</td>\n",
       "      <td>Edmonton</td>\n",
       "      <td>T3G 6Y6</td>\n",
       "      <td>Male</td>\n",
       "      <td>College</td>\n",
       "      <td></td>\n",
       "      <td>Divorced</td>\n",
       "      <td>Star</td>\n",
       "      <td>3839.61</td>\n",
       "      <td>Standard</td>\n",
       "      <td>2016</td>\n",
       "      <td>March</td>\n",
       "      <td>Active</td>\n",
       "      <td>Active Member</td>\n",
       "    </tr>\n",
       "    <tr>\n",
       "      <th>2</th>\n",
       "      <td>429460</td>\n",
       "      <td>Canada</td>\n",
       "      <td>British Columbia</td>\n",
       "      <td>Vancouver</td>\n",
       "      <td>V6E 3D9</td>\n",
       "      <td>Male</td>\n",
       "      <td>College</td>\n",
       "      <td></td>\n",
       "      <td>Single</td>\n",
       "      <td>Star</td>\n",
       "      <td>3839.75</td>\n",
       "      <td>Standard</td>\n",
       "      <td>2014</td>\n",
       "      <td>July</td>\n",
       "      <td>2018</td>\n",
       "      <td>January</td>\n",
       "    </tr>\n",
       "    <tr>\n",
       "      <th>3</th>\n",
       "      <td>608370</td>\n",
       "      <td>Canada</td>\n",
       "      <td>Ontario</td>\n",
       "      <td>Toronto</td>\n",
       "      <td>P1W 1K4</td>\n",
       "      <td>Male</td>\n",
       "      <td>College</td>\n",
       "      <td></td>\n",
       "      <td>Single</td>\n",
       "      <td>Star</td>\n",
       "      <td>3839.75</td>\n",
       "      <td>Standard</td>\n",
       "      <td>2013</td>\n",
       "      <td>February</td>\n",
       "      <td>Active</td>\n",
       "      <td>Active Member</td>\n",
       "    </tr>\n",
       "    <tr>\n",
       "      <th>4</th>\n",
       "      <td>530508</td>\n",
       "      <td>Canada</td>\n",
       "      <td>Quebec</td>\n",
       "      <td>Hull</td>\n",
       "      <td>J8Y 3Z5</td>\n",
       "      <td>Male</td>\n",
       "      <td>Bachelor</td>\n",
       "      <td>103495</td>\n",
       "      <td>Married</td>\n",
       "      <td>Star</td>\n",
       "      <td>3842.79</td>\n",
       "      <td>Standard</td>\n",
       "      <td>2014</td>\n",
       "      <td>October</td>\n",
       "      <td>Active</td>\n",
       "      <td>Active Member</td>\n",
       "    </tr>\n",
       "  </tbody>\n",
       "</table>\n",
       "</div>"
      ],
      "text/plain": [
       "  Loyalty Number Country          Province       City Postal Code  Gender  \\\n",
       "0         480934  Canada           Ontario    Toronto     M2Z 4K1  Female   \n",
       "1         549612  Canada           Alberta   Edmonton     T3G 6Y6    Male   \n",
       "2         429460  Canada  British Columbia  Vancouver     V6E 3D9    Male   \n",
       "3         608370  Canada           Ontario    Toronto     P1W 1K4    Male   \n",
       "4         530508  Canada            Quebec       Hull     J8Y 3Z5    Male   \n",
       "\n",
       "  Education  Salary Marital Status Loyalty Card      CLV Enrollment Type  \\\n",
       "0  Bachelor   83236        Married         Star  3839.14        Standard   \n",
       "1   College               Divorced         Star  3839.61        Standard   \n",
       "2   College                 Single         Star  3839.75        Standard   \n",
       "3   College                 Single         Star  3839.75        Standard   \n",
       "4  Bachelor  103495        Married         Star  3842.79        Standard   \n",
       "\n",
       "  Enrollment Year Enrollment Month Cancellation Year Cancellation Month  \n",
       "0            2016         February            Active      Active Member  \n",
       "1            2016            March            Active      Active Member  \n",
       "2            2014             July              2018            January  \n",
       "3            2013         February            Active      Active Member  \n",
       "4            2014          October            Active      Active Member  "
      ]
     },
     "execution_count": 100,
     "metadata": {},
     "output_type": "execute_result"
    }
   ],
   "source": [
    "df_split_loyalty.head()"
   ]
  },
  {
   "cell_type": "code",
   "execution_count": 101,
   "metadata": {},
   "outputs": [
    {
     "name": "stdout",
     "output_type": "stream",
     "text": [
      "Loyalty Number         object\n",
      "Country                object\n",
      "Province               object\n",
      "City                   object\n",
      "Postal Code            object\n",
      "Gender                 object\n",
      "Education              object\n",
      "Salary                float64\n",
      "Marital Status         object\n",
      "Loyalty Card           object\n",
      "CLV                   float64\n",
      "Enrollment Type        object\n",
      "Enrollment Year        object\n",
      "Enrollment Month       object\n",
      "Cancellation Year      object\n",
      "Cancellation Month     object\n",
      "dtype: object\n",
      "\n",
      " - - - - - - - - - - - - \n",
      "\n",
      "  Loyalty Number Country          Province       City Postal Code  Gender  \\\n",
      "0         480934  Canada           Ontario    Toronto     M2Z 4K1  Female   \n",
      "1         549612  Canada           Alberta   Edmonton     T3G 6Y6    Male   \n",
      "2         429460  Canada  British Columbia  Vancouver     V6E 3D9    Male   \n",
      "3         608370  Canada           Ontario    Toronto     P1W 1K4    Male   \n",
      "4         530508  Canada            Quebec       Hull     J8Y 3Z5    Male   \n",
      "\n",
      "  Education    Salary Marital Status Loyalty Card      CLV Enrollment Type  \\\n",
      "0  Bachelor   83236.0        Married         Star  3839.14        Standard   \n",
      "1   College       NaN       Divorced         Star  3839.61        Standard   \n",
      "2   College       NaN         Single         Star  3839.75        Standard   \n",
      "3   College       NaN         Single         Star  3839.75        Standard   \n",
      "4  Bachelor  103495.0        Married         Star  3842.79        Standard   \n",
      "\n",
      "  Enrollment Year Enrollment Month Cancellation Year Cancellation Month  \n",
      "0            2016         February            Active      Active Member  \n",
      "1            2016            March            Active      Active Member  \n",
      "2            2014             July              2018            January  \n",
      "3            2013         February            Active      Active Member  \n",
      "4            2014          October            Active      Active Member  \n"
     ]
    }
   ],
   "source": [
    "# Voy a transformar el tipo de datos da categoricos a numericos en las columnas Salary y CLV y\n",
    "# ya de paso si faltan registros los reemplazo con NaN:\n",
    "\n",
    "\n",
    "def cambiar_tipo_datos(df):\n",
    "    # Diccionario que mapea las columnas a su tipo deseado\n",
    "    tipos_datos = {'Salary': 'float64', 'CLV': 'float64'}\n",
    "\n",
    "    for columna, tipo in tipos_datos.items():\n",
    "        # Reemplazamos los valores vacíos con NaN y luego convertimos a tipo numérico\n",
    "        df[columna] = pd.to_numeric(df[columna], errors='coerce')\n",
    "    \n",
    "    return df\n",
    "\n",
    "# Aplicamos la función con el df loyalty\n",
    "df_split_loyalty = cambiar_tipo_datos(df_split_loyalty)\n",
    "\n",
    "# Verificamos los tipos de datos después del cambio\n",
    "print(df_split_loyalty.dtypes)\n",
    "print('\\n - - - - - - - - - - - - \\n')\n",
    "print(df_split_loyalty.head())\n"
   ]
  },
  {
   "cell_type": "markdown",
   "metadata": {},
   "source": [
    "**Observando el df de actividad de vuelos, puedo ver que hay que cambiar algunos tipos de datos, porque son todos object, o sea categoricos (eso seguramente pasó en el momento de separación de las columnas) y algunos necesito que sean numericos para poder calcular porcentajes y estadisticas, como por ejemplo: Flights Booked, Flights with Companions, Total Flights, Distance, Points Accumulated, Points Redeemed, Dollar Cost Points Redeemed.**\n",
    "\n",
    "**También veo que hay 1864 filas duplicadas, pero he comprobado y veo que se trata de años, meses, numeros de puntos acumulados y redimidos, el valor en dolares de los puntos, etc. Creo que no hace falta modificar esos datos**\n"
   ]
  },
  {
   "cell_type": "code",
   "execution_count": 102,
   "metadata": {},
   "outputs": [
    {
     "name": "stdout",
     "output_type": "stream",
     "text": [
      "Loyalty Number                  object\n",
      "Year                            object\n",
      "Month                           object\n",
      "Flights Booked                   int64\n",
      "Flights with Companions          int64\n",
      "Total Flights                    int64\n",
      "Distance                       float64\n",
      "Points Accumulated             float64\n",
      "Points Redeemed                  int64\n",
      "Dollar Cost Points Redeemed    float64\n",
      "dtype: object\n"
     ]
    }
   ],
   "source": [
    "# Voy a transformar el tipo de datos da categoricos a numerico en las columnas que he identificado antes:\n",
    "\n",
    "def cambiar_tipo_datos(df):\n",
    "    # Diccionario que mapea las columnas a su tipo deseado\n",
    "    tipos_datos = {\n",
    "        'Flights Booked': 'int64', \n",
    "        'Flights with Companions': 'int64', \n",
    "        'Total Flights': 'int64', \n",
    "        'Distance': 'float64', \n",
    "        'Points Accumulated': 'float64', \n",
    "        'Points Redeemed': 'int64', \n",
    "        'Dollar Cost Points Redeemed': 'float64'\n",
    "    }\n",
    "    \n",
    "    # Aplicar la conversión de tipos de datos\n",
    "    df = df.astype(tipos_datos)\n",
    "\n",
    "    return df\n",
    "\n",
    "# Usar la función en tu DataFrame\n",
    "df_split_flight = cambiar_tipo_datos(df_split_flight)\n",
    "\n",
    "# Verificar los tipos de datos después del cambio\n",
    "print(df_split_flight.dtypes)\n"
   ]
  },
  {
   "cell_type": "code",
   "execution_count": 103,
   "metadata": {},
   "outputs": [
    {
     "name": "stdout",
     "output_type": "stream",
     "text": [
      "Primeras 5 filas df Actividad vuelos:\n",
      "  loyalty_number  year    month  flights_booked  flights_with_companions  \\\n",
      "0         100018  2017  January               3                        0   \n",
      "1         100102  2017  January              10                        4   \n",
      "2         100140  2017  January               6                        0   \n",
      "3         100214  2017  January               0                        0   \n",
      "4         100272  2017  January               0                        0   \n",
      "\n",
      "   total_flights  distance  points_accumulated  points_redeemed  \\\n",
      "0              3    1521.0               152.0                0   \n",
      "1             14    2030.0               203.0                0   \n",
      "2              6    1200.0               120.0                0   \n",
      "3              0       0.0                 0.0                0   \n",
      "4              0       0.0                 0.0                0   \n",
      "\n",
      "   dollar_cost_points_redeemed  \n",
      "0                          0.0  \n",
      "1                          0.0  \n",
      "2                          0.0  \n",
      "3                          0.0  \n",
      "4                          0.0  \n",
      "_ _ _ _ _ _ _ _ _ _ _ _ _ _ _ _ \n",
      "\n",
      "Primeras 5 filas df Historial clientes:\n",
      "  loyalty_number  year    month  flights_booked  flights_with_companions  \\\n",
      "0         100018  2017  January               3                        0   \n",
      "1         100102  2017  January              10                        4   \n",
      "2         100140  2017  January               6                        0   \n",
      "3         100214  2017  January               0                        0   \n",
      "4         100272  2017  January               0                        0   \n",
      "\n",
      "   total_flights  distance  points_accumulated  points_redeemed  \\\n",
      "0              3    1521.0               152.0                0   \n",
      "1             14    2030.0               203.0                0   \n",
      "2              6    1200.0               120.0                0   \n",
      "3              0       0.0                 0.0                0   \n",
      "4              0       0.0                 0.0                0   \n",
      "\n",
      "   dollar_cost_points_redeemed  \n",
      "0                          0.0  \n",
      "1                          0.0  \n",
      "2                          0.0  \n",
      "3                          0.0  \n",
      "4                          0.0  \n"
     ]
    }
   ],
   "source": [
    "# Ahora quiero estandarizar los nombres de todas las columnas de los dos df:\n",
    "# cambiar todas las etiquetas a minusculas y sustituir los espacios con guion bajo:\n",
    "\n",
    "df_split_flight.columns = [col.lower().replace(\" \", \"_\") \n",
    "for col in df_split_flight.columns] #df actividad vuelos\n",
    "print(f'Primeras 5 filas df Actividad vuelos:')\n",
    "print(df_split_flight.head()) \n",
    "\n",
    "print('_ _ _ _ _ _ _ _ _ _ _ _ _ _ _ _', '\\n')\n",
    "\n",
    "df_split_loyalty.columns = [col.lower().replace(\" \", \"_\") \n",
    "for col in df_split_loyalty.columns] #df historial clientes\n",
    "print(f'Primeras 5 filas df Historial clientes:')\n",
    "print(df_split_flight.head()) "
   ]
  },
  {
   "cell_type": "code",
   "execution_count": 104,
   "metadata": {},
   "outputs": [
    {
     "data": {
      "text/html": [
       "<div>\n",
       "<style scoped>\n",
       "    .dataframe tbody tr th:only-of-type {\n",
       "        vertical-align: middle;\n",
       "    }\n",
       "\n",
       "    .dataframe tbody tr th {\n",
       "        vertical-align: top;\n",
       "    }\n",
       "\n",
       "    .dataframe thead th {\n",
       "        text-align: right;\n",
       "    }\n",
       "</style>\n",
       "<table border=\"1\" class=\"dataframe\">\n",
       "  <thead>\n",
       "    <tr style=\"text-align: right;\">\n",
       "      <th></th>\n",
       "      <th>loyalty_number</th>\n",
       "      <th>year</th>\n",
       "      <th>month</th>\n",
       "      <th>flights_booked</th>\n",
       "      <th>flights_with_companions</th>\n",
       "      <th>total_flights</th>\n",
       "      <th>distance</th>\n",
       "      <th>points_accumulated</th>\n",
       "      <th>points_redeemed</th>\n",
       "      <th>dollar_cost_points_redeemed</th>\n",
       "    </tr>\n",
       "  </thead>\n",
       "  <tbody>\n",
       "    <tr>\n",
       "      <th>0</th>\n",
       "      <td>100018</td>\n",
       "      <td>2017</td>\n",
       "      <td>January</td>\n",
       "      <td>3</td>\n",
       "      <td>0</td>\n",
       "      <td>3</td>\n",
       "      <td>1521.0</td>\n",
       "      <td>152.0</td>\n",
       "      <td>0</td>\n",
       "      <td>0.0</td>\n",
       "    </tr>\n",
       "    <tr>\n",
       "      <th>1</th>\n",
       "      <td>100102</td>\n",
       "      <td>2017</td>\n",
       "      <td>January</td>\n",
       "      <td>10</td>\n",
       "      <td>4</td>\n",
       "      <td>14</td>\n",
       "      <td>2030.0</td>\n",
       "      <td>203.0</td>\n",
       "      <td>0</td>\n",
       "      <td>0.0</td>\n",
       "    </tr>\n",
       "    <tr>\n",
       "      <th>2</th>\n",
       "      <td>100140</td>\n",
       "      <td>2017</td>\n",
       "      <td>January</td>\n",
       "      <td>6</td>\n",
       "      <td>0</td>\n",
       "      <td>6</td>\n",
       "      <td>1200.0</td>\n",
       "      <td>120.0</td>\n",
       "      <td>0</td>\n",
       "      <td>0.0</td>\n",
       "    </tr>\n",
       "    <tr>\n",
       "      <th>3</th>\n",
       "      <td>100214</td>\n",
       "      <td>2017</td>\n",
       "      <td>January</td>\n",
       "      <td>0</td>\n",
       "      <td>0</td>\n",
       "      <td>0</td>\n",
       "      <td>0.0</td>\n",
       "      <td>0.0</td>\n",
       "      <td>0</td>\n",
       "      <td>0.0</td>\n",
       "    </tr>\n",
       "    <tr>\n",
       "      <th>4</th>\n",
       "      <td>100272</td>\n",
       "      <td>2017</td>\n",
       "      <td>January</td>\n",
       "      <td>0</td>\n",
       "      <td>0</td>\n",
       "      <td>0</td>\n",
       "      <td>0.0</td>\n",
       "      <td>0.0</td>\n",
       "      <td>0</td>\n",
       "      <td>0.0</td>\n",
       "    </tr>\n",
       "  </tbody>\n",
       "</table>\n",
       "</div>"
      ],
      "text/plain": [
       "  loyalty_number  year    month  flights_booked  flights_with_companions  \\\n",
       "0         100018  2017  January               3                        0   \n",
       "1         100102  2017  January              10                        4   \n",
       "2         100140  2017  January               6                        0   \n",
       "3         100214  2017  January               0                        0   \n",
       "4         100272  2017  January               0                        0   \n",
       "\n",
       "   total_flights  distance  points_accumulated  points_redeemed  \\\n",
       "0              3    1521.0               152.0                0   \n",
       "1             14    2030.0               203.0                0   \n",
       "2              6    1200.0               120.0                0   \n",
       "3              0       0.0                 0.0                0   \n",
       "4              0       0.0                 0.0                0   \n",
       "\n",
       "   dollar_cost_points_redeemed  \n",
       "0                          0.0  \n",
       "1                          0.0  \n",
       "2                          0.0  \n",
       "3                          0.0  \n",
       "4                          0.0  "
      ]
     },
     "execution_count": 104,
     "metadata": {},
     "output_type": "execute_result"
    }
   ],
   "source": [
    "df_split_flight.head()"
   ]
  },
  {
   "cell_type": "code",
   "execution_count": 105,
   "metadata": {},
   "outputs": [
    {
     "data": {
      "text/html": [
       "<div>\n",
       "<style scoped>\n",
       "    .dataframe tbody tr th:only-of-type {\n",
       "        vertical-align: middle;\n",
       "    }\n",
       "\n",
       "    .dataframe tbody tr th {\n",
       "        vertical-align: top;\n",
       "    }\n",
       "\n",
       "    .dataframe thead th {\n",
       "        text-align: right;\n",
       "    }\n",
       "</style>\n",
       "<table border=\"1\" class=\"dataframe\">\n",
       "  <thead>\n",
       "    <tr style=\"text-align: right;\">\n",
       "      <th></th>\n",
       "      <th>loyalty_number</th>\n",
       "      <th>country</th>\n",
       "      <th>province</th>\n",
       "      <th>city</th>\n",
       "      <th>postal_code</th>\n",
       "      <th>gender</th>\n",
       "      <th>education</th>\n",
       "      <th>salary</th>\n",
       "      <th>marital_status</th>\n",
       "      <th>loyalty_card</th>\n",
       "      <th>clv</th>\n",
       "      <th>enrollment_type</th>\n",
       "      <th>enrollment_year</th>\n",
       "      <th>enrollment_month</th>\n",
       "      <th>cancellation_year</th>\n",
       "      <th>cancellation_month</th>\n",
       "    </tr>\n",
       "  </thead>\n",
       "  <tbody>\n",
       "    <tr>\n",
       "      <th>0</th>\n",
       "      <td>480934</td>\n",
       "      <td>Canada</td>\n",
       "      <td>Ontario</td>\n",
       "      <td>Toronto</td>\n",
       "      <td>M2Z 4K1</td>\n",
       "      <td>Female</td>\n",
       "      <td>Bachelor</td>\n",
       "      <td>83236.0</td>\n",
       "      <td>Married</td>\n",
       "      <td>Star</td>\n",
       "      <td>3839.14</td>\n",
       "      <td>Standard</td>\n",
       "      <td>2016</td>\n",
       "      <td>February</td>\n",
       "      <td>Active</td>\n",
       "      <td>Active Member</td>\n",
       "    </tr>\n",
       "    <tr>\n",
       "      <th>1</th>\n",
       "      <td>549612</td>\n",
       "      <td>Canada</td>\n",
       "      <td>Alberta</td>\n",
       "      <td>Edmonton</td>\n",
       "      <td>T3G 6Y6</td>\n",
       "      <td>Male</td>\n",
       "      <td>College</td>\n",
       "      <td>NaN</td>\n",
       "      <td>Divorced</td>\n",
       "      <td>Star</td>\n",
       "      <td>3839.61</td>\n",
       "      <td>Standard</td>\n",
       "      <td>2016</td>\n",
       "      <td>March</td>\n",
       "      <td>Active</td>\n",
       "      <td>Active Member</td>\n",
       "    </tr>\n",
       "    <tr>\n",
       "      <th>2</th>\n",
       "      <td>429460</td>\n",
       "      <td>Canada</td>\n",
       "      <td>British Columbia</td>\n",
       "      <td>Vancouver</td>\n",
       "      <td>V6E 3D9</td>\n",
       "      <td>Male</td>\n",
       "      <td>College</td>\n",
       "      <td>NaN</td>\n",
       "      <td>Single</td>\n",
       "      <td>Star</td>\n",
       "      <td>3839.75</td>\n",
       "      <td>Standard</td>\n",
       "      <td>2014</td>\n",
       "      <td>July</td>\n",
       "      <td>2018</td>\n",
       "      <td>January</td>\n",
       "    </tr>\n",
       "    <tr>\n",
       "      <th>3</th>\n",
       "      <td>608370</td>\n",
       "      <td>Canada</td>\n",
       "      <td>Ontario</td>\n",
       "      <td>Toronto</td>\n",
       "      <td>P1W 1K4</td>\n",
       "      <td>Male</td>\n",
       "      <td>College</td>\n",
       "      <td>NaN</td>\n",
       "      <td>Single</td>\n",
       "      <td>Star</td>\n",
       "      <td>3839.75</td>\n",
       "      <td>Standard</td>\n",
       "      <td>2013</td>\n",
       "      <td>February</td>\n",
       "      <td>Active</td>\n",
       "      <td>Active Member</td>\n",
       "    </tr>\n",
       "    <tr>\n",
       "      <th>4</th>\n",
       "      <td>530508</td>\n",
       "      <td>Canada</td>\n",
       "      <td>Quebec</td>\n",
       "      <td>Hull</td>\n",
       "      <td>J8Y 3Z5</td>\n",
       "      <td>Male</td>\n",
       "      <td>Bachelor</td>\n",
       "      <td>103495.0</td>\n",
       "      <td>Married</td>\n",
       "      <td>Star</td>\n",
       "      <td>3842.79</td>\n",
       "      <td>Standard</td>\n",
       "      <td>2014</td>\n",
       "      <td>October</td>\n",
       "      <td>Active</td>\n",
       "      <td>Active Member</td>\n",
       "    </tr>\n",
       "  </tbody>\n",
       "</table>\n",
       "</div>"
      ],
      "text/plain": [
       "  loyalty_number country          province       city postal_code  gender  \\\n",
       "0         480934  Canada           Ontario    Toronto     M2Z 4K1  Female   \n",
       "1         549612  Canada           Alberta   Edmonton     T3G 6Y6    Male   \n",
       "2         429460  Canada  British Columbia  Vancouver     V6E 3D9    Male   \n",
       "3         608370  Canada           Ontario    Toronto     P1W 1K4    Male   \n",
       "4         530508  Canada            Quebec       Hull     J8Y 3Z5    Male   \n",
       "\n",
       "  education    salary marital_status loyalty_card      clv enrollment_type  \\\n",
       "0  Bachelor   83236.0        Married         Star  3839.14        Standard   \n",
       "1   College       NaN       Divorced         Star  3839.61        Standard   \n",
       "2   College       NaN         Single         Star  3839.75        Standard   \n",
       "3   College       NaN         Single         Star  3839.75        Standard   \n",
       "4  Bachelor  103495.0        Married         Star  3842.79        Standard   \n",
       "\n",
       "  enrollment_year enrollment_month cancellation_year cancellation_month  \n",
       "0            2016         February            Active      Active Member  \n",
       "1            2016            March            Active      Active Member  \n",
       "2            2014             July              2018            January  \n",
       "3            2013         February            Active      Active Member  \n",
       "4            2014          October            Active      Active Member  "
      ]
     },
     "execution_count": 105,
     "metadata": {},
     "output_type": "execute_result"
    }
   ],
   "source": [
    "df_split_loyalty.head()"
   ]
  },
  {
   "cell_type": "markdown",
   "metadata": {},
   "source": [
    "## UNION DE LOS DOS DATAFRAME:"
   ]
  },
  {
   "cell_type": "code",
   "execution_count": 106,
   "metadata": {},
   "outputs": [
    {
     "name": "stdout",
     "output_type": "stream",
     "text": [
      "(405624, 25)\n"
     ]
    }
   ],
   "source": [
    "df_combined_outer = pd.merge(df_split_flight, df_split_loyalty, on='loyalty_number', how='outer') \n",
    "\n",
    "# MERGE: combina df utilizando columnas comunes, y pone una tabla al lado de otra.\n",
    "# OUTER: Este tipo de unión mantiene todas las filas de ambos DataFrames y pone NaN donde no haya coincidencia en 'Loyalty Number'.\n",
    "\n",
    "print(df_combined_outer.shape)"
   ]
  },
  {
   "cell_type": "markdown",
   "metadata": {},
   "source": [
    "### ESTADISTICAS BASICAS DEL DATAFRAME"
   ]
  },
  {
   "cell_type": "code",
   "execution_count": 107,
   "metadata": {},
   "outputs": [
    {
     "name": "stdout",
     "output_type": "stream",
     "text": [
      "Estadísticas básicas de variables numéricas:\n",
      "       flights_booked  flights_with_companions  total_flights       distance  \\\n",
      "count   405624.000000            405624.000000  405624.000000  405624.000000   \n",
      "mean         4.115052                 1.031805       5.146858    1208.880059   \n",
      "std          5.225518                 2.076869       6.521227    1433.155320   \n",
      "min          0.000000                 0.000000       0.000000       0.000000   \n",
      "25%          0.000000                 0.000000       0.000000       0.000000   \n",
      "50%          1.000000                 0.000000       1.000000     488.000000   \n",
      "75%          8.000000                 1.000000      10.000000    2336.000000   \n",
      "max         21.000000                11.000000      32.000000    6293.000000   \n",
      "\n",
      "       points_accumulated  points_redeemed  dollar_cost_points_redeemed  \\\n",
      "count       405624.000000    405624.000000                405624.000000   \n",
      "mean           123.692721        30.696872                     2.484503   \n",
      "std            146.599831       125.486049                    10.150038   \n",
      "min              0.000000         0.000000                     0.000000   \n",
      "25%              0.000000         0.000000                     0.000000   \n",
      "50%             50.000000         0.000000                     0.000000   \n",
      "75%            239.000000         0.000000                     0.000000   \n",
      "max            676.500000       876.000000                    71.000000   \n",
      "\n",
      "              salary            clv  \n",
      "count  302952.000000  405624.000000  \n",
      "mean    79268.825953    7991.976226  \n",
      "std     34992.133508    6863.663857  \n",
      "min    -58486.000000    1898.010000  \n",
      "25%     59262.000000    3985.320000  \n",
      "50%     73479.000000    5776.340000  \n",
      "75%     88612.000000    8936.820000  \n",
      "max    407228.000000   83325.380000  \n",
      "\n",
      "Valores nulos por columna:\n",
      "loyalty_number                      0\n",
      "year                                0\n",
      "month                               0\n",
      "flights_booked                      0\n",
      "flights_with_companions             0\n",
      "total_flights                       0\n",
      "distance                            0\n",
      "points_accumulated                  0\n",
      "points_redeemed                     0\n",
      "dollar_cost_points_redeemed         0\n",
      "country                             0\n",
      "province                            0\n",
      "city                                0\n",
      "postal_code                         0\n",
      "gender                              0\n",
      "education                           0\n",
      "salary                         102672\n",
      "marital_status                      0\n",
      "loyalty_card                        0\n",
      "clv                                 0\n",
      "enrollment_type                     0\n",
      "enrollment_year                     0\n",
      "enrollment_month                    0\n",
      "cancellation_year                   0\n",
      "cancellation_month                  0\n",
      "dtype: int64\n",
      "\n",
      "Información general del dataframe:\n",
      "<class 'pandas.core.frame.DataFrame'>\n",
      "RangeIndex: 405624 entries, 0 to 405623\n",
      "Data columns (total 25 columns):\n",
      " #   Column                       Non-Null Count   Dtype  \n",
      "---  ------                       --------------   -----  \n",
      " 0   loyalty_number               405624 non-null  object \n",
      " 1   year                         405624 non-null  object \n",
      " 2   month                        405624 non-null  object \n",
      " 3   flights_booked               405624 non-null  int64  \n",
      " 4   flights_with_companions      405624 non-null  int64  \n",
      " 5   total_flights                405624 non-null  int64  \n",
      " 6   distance                     405624 non-null  float64\n",
      " 7   points_accumulated           405624 non-null  float64\n",
      " 8   points_redeemed              405624 non-null  int64  \n",
      " 9   dollar_cost_points_redeemed  405624 non-null  float64\n",
      " 10  country                      405624 non-null  object \n",
      " 11  province                     405624 non-null  object \n",
      " 12  city                         405624 non-null  object \n",
      " 13  postal_code                  405624 non-null  object \n",
      " 14  gender                       405624 non-null  object \n",
      " 15  education                    405624 non-null  object \n",
      " 16  salary                       302952 non-null  float64\n",
      " 17  marital_status               405624 non-null  object \n",
      " 18  loyalty_card                 405624 non-null  object \n",
      " 19  clv                          405624 non-null  float64\n",
      " 20  enrollment_type              405624 non-null  object \n",
      " 21  enrollment_year              405624 non-null  object \n",
      " 22  enrollment_month             405624 non-null  object \n",
      " 23  cancellation_year            405624 non-null  object \n",
      " 24  cancellation_month           405624 non-null  object \n",
      "dtypes: float64(5), int64(4), object(16)\n",
      "memory usage: 77.4+ MB\n",
      "None\n",
      "\n",
      "Distribución por Province:\n",
      "province\n",
      "Ontario                 130896\n",
      "British Columbia        106848\n",
      "Quebec                   79968\n",
      "Alberta                  23400\n",
      "Manitoba                 15984\n",
      "New Brunswick            15432\n",
      "Nova Scotia              12576\n",
      "Saskatchewan              9936\n",
      "Newfoundland              6312\n",
      "Yukon                     2688\n",
      "Prince Edward Island      1584\n",
      "Name: count, dtype: int64\n",
      "\n",
      "Distribución vuelos por Mes:\n",
      "flights_booked\n",
      "0     197992\n",
      "3      18228\n",
      "11     15705\n",
      "5      15084\n",
      "7      14561\n",
      "8      14357\n",
      "9      14164\n",
      "6      13847\n",
      "2      13641\n",
      "10     13363\n",
      "4      12821\n",
      "1      12667\n",
      "13     10782\n",
      "12     10382\n",
      "14      7057\n",
      "15      6582\n",
      "16      4354\n",
      "17      3899\n",
      "18      2958\n",
      "19      1496\n",
      "20      1156\n",
      "21       528\n",
      "Name: count, dtype: int64\n",
      "\n",
      "Distribución por Education:\n",
      "education\n",
      "Bachelor                253752\n",
      "College                 102672\n",
      "High School or Below     19008\n",
      "Doctor                   17856\n",
      "Master                   12336\n",
      "Name: count, dtype: int64\n",
      "\n",
      "Distribución por Loyalty Card:\n",
      "loyalty_card\n",
      "Star      184224\n",
      "Nova      137568\n",
      "Aurora     83832\n",
      "Name: count, dtype: int64\n",
      "\n",
      "Distribución por Género:\n",
      "gender\n",
      "Female    203640\n",
      "Male      201984\n",
      "Name: count, dtype: int64\n",
      "\n",
      "Estadísticas de vuelos y puntos:\n",
      "Promedio de vuelos reservados: 4.115052363765457\n",
      "Máximo de vuelos reservados: 21\n",
      "Promedio de puntos acumulados: 123.69272096818729\n",
      "Promedio de distancia volada: 1208.880058872256\n"
     ]
    }
   ],
   "source": [
    "# Estadísticas básicas generales\n",
    "print(\"Estadísticas básicas de variables numéricas:\")\n",
    "print(df_combined_outer.describe())\n",
    "\n",
    "# Verificar valores nulos en cada columna\n",
    "print(\"\\nValores nulos por columna:\")\n",
    "print(df_combined_outer.isnull().sum())\n",
    "\n",
    "# Información general del dataframe\n",
    "print(\"\\nInformación general del dataframe:\")\n",
    "print(df_combined_outer.info())\n",
    "\n",
    "# Para variables categóricas, ver las frecuencias\n",
    "print(\"\\nDistribución por Province:\")\n",
    "print(df_combined_outer['province'].value_counts())\n",
    "\n",
    "print(\"\\nDistribución vuelos por Mes:\")\n",
    "print(df_combined_outer['flights_booked'].value_counts())\n",
    "\n",
    "print(\"\\nDistribución por Education:\")\n",
    "print(df_combined_outer['education'].value_counts())\n",
    "\n",
    "print(\"\\nDistribución por Loyalty Card:\")\n",
    "print(df_combined_outer['loyalty_card'].value_counts())\n",
    "\n",
    "print(\"\\nDistribución por Género:\")\n",
    "print(df_combined_outer['gender'].value_counts())\n",
    "\n",
    "# Estadísticas específicas para columnas numéricas clave\n",
    "print(\"\\nEstadísticas de vuelos y puntos:\")\n",
    "print(\"Promedio de vuelos reservados:\", df_combined_outer['flights_booked'].mean())\n",
    "print(\"Máximo de vuelos reservados:\", df_combined_outer['flights_booked'].max())\n",
    "print(\"Promedio de puntos acumulados:\", df_combined_outer['points_accumulated'].mean())\n",
    "print(\"Promedio de distancia volada:\", df_combined_outer['distance'].mean())"
   ]
  },
  {
   "cell_type": "markdown",
   "metadata": {},
   "source": [
    "## **ALGUNOS PUNTOS IMPORTANTES A DESTACAR EN LOS RESULTADOS:**\n",
    "\n",
    "### **Distribución geográfica:**\n",
    "\n",
    "- Ontario es la provincia con más clientes (130,896)\n",
    "- Seguida por British Columbia (106,848) y Quebec (79,968)\n",
    "- Las provincias más pequeñas como Prince Edward Island tienen menor representación (1,584)\n",
    "\n",
    "### **Distribución por mes:**\n",
    "\n",
    "Los números en la primera columna (0, 3, 11, 5, etc.) representan la cantidad de vuelos reservados en ese mes, y los números en la segunda columna (como 197,992, 18,228, etc.) indican cuántos clientes realizaron esa cantidad de vuelos reservados.\n",
    "\n",
    "#### CONCLUSIÓN, MUCHOS CLIENTES NO HAN RESERVADO VUELOS ESE MES, hay que saber si es porque no están activos o si es en un mes especifico, lo veremos en el próximo paso.\n",
    "\n",
    "### **Nivel educativo:**\n",
    "\n",
    "- La mayoría son graduados universitarios (Bachelor: 253,752)\n",
    "- Seguido por College (102,672)\n",
    "- Menor proporción de doctores (17,856) y másters (12,336)\n",
    "\n",
    "### **Tarjetas de fidelidad:**\n",
    "\n",
    "- Star es la más común (184,224 usuarios)\n",
    "- Seguida por Nova (137,568)\n",
    "- Aurora es la menos común (83,832)\n",
    "\n",
    "### **Comportamiento de vuelos:**\n",
    "\n",
    "- Media de 4.11 vuelos por cliente\n",
    "- La mayoría viaja solo (media de 1.03 vuelos con acompañantes)\n",
    "- Distancia media volada: 1,208.88 (km o millas)\n",
    "- Un 25% de los registros tienen 0 en distancia y vuelos\n",
    "\n",
    "### **Distribución por género:**\n",
    "\n",
    "- Hay casi el mismo numero de hombres y mujeres (203640 mujeres y 201984 hombres)\n",
    "\n",
    "### **Programa de puntos:**\n",
    "\n",
    "- Media de 123.67 puntos acumulados\n",
    "- Baja tasa de redención (media de 30.70 puntos redimidos)\n",
    "- Muchos clientes no han redimido puntos (mediana = 0)\n"
   ]
  },
  {
   "cell_type": "markdown",
   "metadata": {},
   "source": [
    "## PROBLEMAS A SOLUCIONAR:\n",
    "\n",
    "#### Salary:\n",
    "\n",
    "- Hay un valor mínimo negativo (-58,486) que claramente es un error, ya que un salario no puede ser negativo\n",
    "- Hay 102,672 valores nulos (missing values) en la columna salary\n",
    "- El rango de salarios (de los valores válidos) parece razonable, con una media de 79,268 y valores máximos de 407,228"
   ]
  },
  {
   "cell_type": "code",
   "execution_count": 108,
   "metadata": {},
   "outputs": [
    {
     "name": "stdout",
     "output_type": "stream",
     "text": [
      "Verificación después del cambio:\n",
      "count    302952.000000\n",
      "mean      79381.440228\n",
      "std       34735.904533\n",
      "min        9081.000000\n",
      "25%       59262.000000\n",
      "50%       73479.000000\n",
      "75%       88612.000000\n",
      "max      407228.000000\n",
      "Name: salary, dtype: float64\n"
     ]
    }
   ],
   "source": [
    "# Convertir salarios negativos a positivos usando valor absoluto\n",
    "df_combined_outer['salary'] = df_combined_outer['salary'].abs()\n",
    "\n",
    "# Verificar el cambio\n",
    "print(\"Verificación después del cambio:\")\n",
    "print(df_combined_outer['salary'].describe())"
   ]
  },
  {
   "cell_type": "markdown",
   "metadata": {},
   "source": [
    "## FASE 2: VISUALIZACIÓN \n",
    "\n",
    "### Usando las herramientas de visualización que has aprendido durante el módulo, contesta a las siguientes preguntas usando la mejor gráfica que consideres:\n",
    "\n",
    "***1. ¿Cómo se distribuye la cantidad de vuelos reservados por mes durante el año?***\n",
    "\n",
    "\n",
    "***2. ¿Existe una relación entre la distancia de los vuelos y los puntos acumulados por los clientes?***\n",
    "\n",
    "\n",
    "***3. ¿Cuál es la distribución de los clientes por provincia o estado?***\n",
    "\n",
    "\n",
    "***4. ¿Cómo se compara el salario promedio entre los diferentes niveles educativos de los clientes?***\n",
    "\n",
    "\n",
    "***5. ¿Cuál es la proporción de clientes con diferentes tipos de tarjetas de fidelidad?***\n",
    "\n",
    "\n",
    "***6. ¿Cómo se distribuyen los clientes según su estado civil y género?***\n"
   ]
  },
  {
   "cell_type": "markdown",
   "metadata": {},
   "source": [
    "#### PREGUNTA 1:\n",
    "- ***1. ¿Cómo se distribuye la cantidad de vuelos reservados por mes durante el año?***"
   ]
  },
  {
   "cell_type": "code",
   "execution_count": 109,
   "metadata": {},
   "outputs": [
    {
     "name": "stderr",
     "output_type": "stream",
     "text": [
      "/var/folders/mf/fv1_014j6_d_r5n12hjxrz9r0000gn/T/ipykernel_1656/993362196.py:6: FutureWarning: \n",
      "\n",
      "Passing `palette` without assigning `hue` is deprecated and will be removed in v0.14.0. Assign the `x` variable to `hue` and set `legend=False` for the same effect.\n",
      "\n",
      "  sns.barplot(data=monthly_flights, x='month', y='flights_booked', palette='viridis')\n"
     ]
    },
    {
     "data": {
      "image/png": "[encoded data removed]",
      "text/plain": [
       "<Figure size 800x400 with 1 Axes>"
      ]
     },
     "metadata": {},
     "output_type": "display_data"
    }
   ],
   "source": [
    "# Agrupar por año y mes para obtener el total de vuelos reservados por mes\n",
    "monthly_flights = df_combined_outer.groupby(['month'], as_index=False)['flights_booked'].sum()\n",
    "\n",
    "# Crear gráfico de barras\n",
    "plt.figure(figsize=(8, 4))\n",
    "sns.barplot(data=monthly_flights, x='month', y='flights_booked', palette='viridis')\n",
    "\n",
    "# Personalizar gráficos\n",
    "plt.title('Distribución de Vuelos Reservados por Mes', fontsize=16)\n",
    "plt.xlabel('Mes', fontsize=12)\n",
    "plt.ylabel('Total de Vuelos Reservados', fontsize=12)\n",
    "plt.xticks(ticks=range(0, 12), labels=['Ene', 'Feb', 'Mar', 'Abr', 'May', 'Jun', 'Jul', 'Ago', 'Sep', 'Oct', 'Nov', 'Dic'])\n",
    "\n",
    "# Mostrar gráfico\n",
    "plt.show()\n"
   ]
  },
  {
   "cell_type": "markdown",
   "metadata": {},
   "source": [
    "#### En este gráfico de barras podemos ver que los picos de reservas de vuelos por mes a lo largo del año son entre febrero y marzo y entre junio y julio. Se puede explicar con el hecho de que en muchos países, febrero y marzo coinciden con las vacaciones de invierno o con las vacaciones de primavera o \"Spring Break\" en América del Norte (EE.UU. y Canadá), especialmente entre los estudiantes universitarios y los colegios. Además está el turismo de invierno y los días festivos, que en febrero en Canada son varios (Día de la familia, día de los Presidentes) y en marzo es semana santa (esta fiesta pero es más de America latina, pero puede que haya muchos inmigrantes que viven en Canada).\n",
    "\n",
    "#### El periodo de Junio-Julio coincide con las vacaciones escolares en Canadá, eso lo convierte en un periodo en el que las familias pueden concederse viajes largos."
   ]
  },
  {
   "cell_type": "code",
   "execution_count": 110,
   "metadata": {},
   "outputs": [
    {
     "name": "stderr",
     "output_type": "stream",
     "text": [
      "/var/folders/mf/fv1_014j6_d_r5n12hjxrz9r0000gn/T/ipykernel_1656/4112303929.py:5: FutureWarning: \n",
      "\n",
      "Passing `palette` without assigning `hue` is deprecated and will be removed in v0.14.0. Assign the `y` variable to `hue` and set `legend=False` for the same effect.\n",
      "\n",
      "  sns.boxplot(data=df_combined_outer, x='flights_booked', y='month', palette='viridis')\n"
     ]
    },
    {
     "data": {
      "image/png": "[encoded data removed]",
      "text/plain": [
       "<Figure size 800x600 with 1 Axes>"
      ]
     },
     "metadata": {},
     "output_type": "display_data"
    }
   ],
   "source": [
    "# Pero quiero hacer un boxplot para ver mejor como se distribuyen los datos y si hay outliers:\n",
    "\n",
    "# Creamos Boxplot \n",
    "plt.figure(figsize=(8, 6))\n",
    "sns.boxplot(data=df_combined_outer, x='flights_booked', y='month', palette='viridis')\n",
    "\n",
    "# Personalizamos gráfico\n",
    "plt.title('Distribución de Vuelos Reservados por Mes', fontsize=12)\n",
    "plt.xlabel('Vuelos Reservados', fontsize=10)\n",
    "plt.ylabel('Mes', fontsize=10)\n",
    "plt.yticks(ticks=range(0, 12), labels=['Ene', 'Feb', 'Mar', 'Abr', 'May', 'Jun', 'Jul', 'Ago', 'Sep', 'Oct', 'Nov', 'Dic'])\n",
    "\n",
    "# Mostramos gráfico\n",
    "plt.show()\n"
   ]
  },
  {
   "cell_type": "markdown",
   "metadata": {},
   "source": [
    "\n",
    "#### Otras observaciones importantes:\n",
    "\n",
    "- Los meses de verano (junio y julio) tienen las medianas más altas de vuelos reservados.\n",
    "- Los meses de invierno (enero y febrero) tienen las medianas más bajas.\n",
    "- Las cajas más largas (como en julio) nos indica un mayor número de vuelos reservados.\n",
    "- Los bigotes largos indican que hay clientes que reservan muchos más vuelos que la media, especialmente en los meses de verano\n",
    "- Se nota que las reservas están relacionadas con la estación del año, con picos en la temporada de verano y bajadas en invierno\n",
    "\n",
    "#### Esto tiene sentido considerando que:\n",
    "\n",
    "- Como dijimos antes, el verano es la temporada alta de viajes en Canadá\n",
    "- Las condiciones climáticas en invierno pueden disminuir los viajes\n",
    "- Las vacaciones escolares y laborales suelen concentrarse en los meses de verano\n",
    " "
   ]
  },
  {
   "cell_type": "markdown",
   "metadata": {},
   "source": [
    "#### PREGUNTA 2:\n",
    "***¿Existe una relación entre la distancia de los vuelos y los puntos acumulados por los clientes?***\n"
   ]
  },
  {
   "cell_type": "code",
   "execution_count": 111,
   "metadata": {},
   "outputs": [
    {
     "data": {
      "image/png": "[encoded data removed]",
      "text/plain": [
       "<Figure size 1000x600 with 1 Axes>"
      ]
     },
     "metadata": {},
     "output_type": "display_data"
    }
   ],
   "source": [
    "\n",
    "# Creamos un scatter plot para comprobar si hay relación entre distancia de vuelos y puntos:\n",
    "\n",
    "plt.figure(figsize=(10, 6))\n",
    "sns.scatterplot(data=df_combined_outer, x='distance', y='points_accumulated')\n",
    "\n",
    "# Añadimos una línea de regresión para ver la tendencia\n",
    "sns.regplot(data=df_combined_outer, x='distance', y='points_accumulated', \n",
    "            scatter=False, color='red')\n",
    "\n",
    "# Personalizamos el gráfico\n",
    "plt.title('Relación entre Distancia de Vuelos y Puntos Acumulados')\n",
    "plt.xlabel('Distancia')\n",
    "plt.ylabel('Puntos Acumulados')\n",
    "\n",
    "# Ajustamos los márgenes\n",
    "plt.tight_layout()\n",
    "\n",
    "# Mostramos el gráfico\n",
    "plt.show()"
   ]
  },
  {
   "cell_type": "code",
   "execution_count": 112,
   "metadata": {},
   "outputs": [
    {
     "name": "stdout",
     "output_type": "stream",
     "text": [
      "Coeficiente de correlación: 0.9946\n"
     ]
    }
   ],
   "source": [
    "correlation = df_combined_outer['distance'].corr(df_combined_outer['points_accumulated'])\n",
    "print(f\"Coeficiente de correlación: {correlation:.4f}\")"
   ]
  },
  {
   "cell_type": "markdown",
   "metadata": {},
   "source": [
    "#### Viendo el gráfico de dispersión (scatter plot) y el coeficiente de correlación, puedo hacer un análisis de la relación entre la distancia de los vuelos y los puntos acumulados:\n",
    "\n",
    "#### Correlación Positiva Muy Fuerte\n",
    "\n",
    "- El coeficiente de correlación de 0.9946 indica una correlación positiva casi perfecta entre ambas variables.\n",
    "\n",
    "- Este valor tan cercano a 1 sugiere que la distancia y los puntos acumulados están fuertemente relacionados entre ellos\n",
    "\n",
    "#### Análisis Visual del Scatter Plot\n",
    "\n",
    "- Hay varias líneas de tendencia ascendentes y paralelas\n",
    "- Los puntos forman lineas, con lo cual hay diferentes tasas de acumulación de puntos\n",
    "- La distribución de los puntos es organizada y constante, no hay puntos atipicos \n",
    "\n",
    "\n",
    "#### Interpretación\n",
    "\n",
    "- Parece que haya diferentes niveles o categorías donde los puntos se acumulan.\n",
    "- Esto podría indicarnos diferentes formas de acumualción de puntos (probablemente relacionado con el tipo de tarjeta):\n",
    "\n",
    "  - Categorías de miembros (ejemplo: tarjeta oro, plata y cobre)\n",
    "  - Tipos de tarifas\n",
    "  - Clases de vuelo\n",
    "  - Promociones especiales\n",
    "\n",
    "#### Implicaciones\n",
    "\n",
    "- La relación es predecible: se puede saber cuántos puntos acumulará un cliente basado en la distancia del vuelo.\n",
    "- El sistema de puntos parece estar directamente basado en la distancia recorrida\n",
    "- La presencia de múltiples líneas sugiere un sistema de recompensas estratificado\n",
    "\n",
    "#### La respuesta a la pregunta es definitivamente sí: existe una relación muy fuerte y positiva entre la distancia de los vuelos y los puntos acumulados por los clientes, como lo demuestra tanto el análisis visual como el coeficiente de correlación extremadamente alto."
   ]
  },
  {
   "cell_type": "markdown",
   "metadata": {},
   "source": [
    "#### PREGUNTA 3:\n",
    "- ***¿Cuál es la distribución de los clientes por provincia o estado?***"
   ]
  },
  {
   "cell_type": "code",
   "execution_count": 113,
   "metadata": {},
   "outputs": [
    {
     "name": "stderr",
     "output_type": "stream",
     "text": [
      "/var/folders/mf/fv1_014j6_d_r5n12hjxrz9r0000gn/T/ipykernel_1656/2777070713.py:7: FutureWarning: \n",
      "\n",
      "Passing `palette` without assigning `hue` is deprecated and will be removed in v0.14.0. Assign the `x` variable to `hue` and set `legend=False` for the same effect.\n",
      "\n",
      "  sns.barplot(x=conteo_clientes_por_provincia.index, y=conteo_clientes_por_provincia.values, palette=\"Set2\")\n"
     ]
    },
    {
     "data": {
      "image/png": "[encoded data removed]",
      "text/plain": [
       "<Figure size 1000x400 with 1 Axes>"
      ]
     },
     "metadata": {},
     "output_type": "display_data"
    }
   ],
   "source": [
    "# Agrupamos los clientes por provincias\n",
    "# Contamos cuántos clientes únicos hay en cada provincia\n",
    "conteo_clientes_por_provincia = df_combined_outer.groupby('province')['loyalty_number'].nunique()\n",
    "\n",
    "# Creamos un gráfico de barras\n",
    "plt.figure(figsize=(10, 4))\n",
    "sns.barplot(x=conteo_clientes_por_provincia.index, y=conteo_clientes_por_provincia.values, palette=\"Set2\")\n",
    "\n",
    "# Títulos y etiquetas\n",
    "plt.title('Número de clientes por provincia', fontsize=12)\n",
    "plt.xlabel('Provincia', fontsize=10)\n",
    "plt.ylabel('Número de clientes', fontsize=8)\n",
    "plt.xticks(rotation=60)  # Rotar etiquetas de provincia para mejorar la visibilidad\n",
    "\n",
    "# Mostrar el gráfico\n",
    "plt.show()\n",
    "\n"
   ]
  },
  {
   "cell_type": "markdown",
   "metadata": {},
   "source": [
    "#### Las provincias más pobladas de Canadá (2021):\n",
    "\n",
    "- 1. Ontario: Aproximadamente 14.7 millones de personas.\n",
    "\n",
    "- 2. Quebec: Aproximadamente 8.5 millones de personas.\n",
    "\n",
    "- 3. Columbia Británica (British Columbia): Aproximadamente 5.3 millones de personas.\n",
    "\n",
    "#### Porque el grafico no respeta el orden de tamaño en la distribución de clientes? \n",
    "\n",
    "- Vancouver (Columbia Britanica) es una de las ciudades más diversas y de mayor calidad de vida en Canadá, lo que atrae a personas de todo el mundo, tanto para trabajar como para vivir. Esta calidad de vida, junto con las oportunidades laborales, atrae tanto a canadienses como a inmigrantes.\n",
    "\n",
    "- Aunque Quebec, especialmente Montreal, es una ciudad con una rica vida cultural y un crecimiento constante, su economía no está tan diversificada ni tan desarrollada como la de Ontario o Columbia Británica en términos de sectores como las finanzas o la tecnología.\n",
    "\n",
    "- Ontario y Columbia Británica son las dos provincias que reciben la mayor cantidad de inmigrantes debido a su tamaño, sus oportunidades laborales y la calidad de vida. Esto se traduce en una mayor diversidad de clientes y un aumento en la demanda de productos y servicios.\n",
    "\n",
    "- Quebec tiene políticas de inmigración que favorecen a los francófonos y, por tanto, tiene una población inmigrante que en su mayoría habla francés. Esto también puede limitar el tipo de clientes que buscan productos o servicios en inglés o que vienen de otras culturas.\n"
   ]
  },
  {
   "cell_type": "markdown",
   "metadata": {},
   "source": [
    "#### PREGUNTA 4:\n",
    "***¿Cómo se compara el salario promedio entre los diferentes niveles educativos de los clientes?***"
   ]
  },
  {
   "cell_type": "code",
   "execution_count": 114,
   "metadata": {},
   "outputs": [
    {
     "name": "stderr",
     "output_type": "stream",
     "text": [
      "/var/folders/mf/fv1_014j6_d_r5n12hjxrz9r0000gn/T/ipykernel_1656/143080144.py:16: FutureWarning: \n",
      "\n",
      "Passing `palette` without assigning `hue` is deprecated and will be removed in v0.14.0. Assign the `x` variable to `hue` and set `legend=False` for the same effect.\n",
      "\n",
      "  sns.barplot(x='education', y='salary', data=salario_promedio, palette='BuGn')\n"
     ]
    },
    {
     "data": {
      "image/png": "[encoded data removed]",
      "text/plain": [
       "<Figure size 800x400 with 1 Axes>"
      ]
     },
     "metadata": {},
     "output_type": "display_data"
    }
   ],
   "source": [
    "# Para abordar este problema, tenemos que tener en cuenta que la columna salary tiene valores nulos o faltantes. \n",
    "# Cuando calculamos el salario promedio, debemos asegurarnos de excluir esos valores nulos para obtener un cálculo correcto. \n",
    "# Usaremos la función dropna() para eliminar las filas con valores nulos antes de calcular el salario promedio.\n",
    "\n",
    "# Primero, eliminamos las filas con valores nulos en la columna 'salary'\n",
    "df_combined_outer_clean = df_combined_outer.dropna(subset=['salary'])\n",
    "\n",
    "# Calculamos el salario promedio por nivel educativo\n",
    "salario_promedio = df_combined_outer_clean.groupby('education')['salary'].mean().reset_index()\n",
    "\n",
    "# Ordenamos los resultados por salario promedio (de mayor a menor)\n",
    "salario_promedio = salario_promedio.sort_values(by='salary', ascending=False)\n",
    "\n",
    "# Creamos un gráfico de barras para visualizar la comparación de salarios promedio\n",
    "plt.figure(figsize=(8, 4))\n",
    "sns.barplot(x='education', y='salary', data=salario_promedio, palette='BuGn')\n",
    "\n",
    "# Títulos y etiquetas\n",
    "plt.title('Salario promedio según el nivel educativo', fontsize=12)\n",
    "plt.xlabel('Nivel educativo', fontsize=10)\n",
    "plt.ylabel('Salario promedio', fontsize=10)\n",
    "plt.xticks(rotation=45)  # Rotar las etiquetas para mejor visibilidad\n",
    "\n",
    "# Mostrar el gráfico\n",
    "plt.show()\n",
    "\n"
   ]
  },
  {
   "cell_type": "markdown",
   "metadata": {},
   "source": [
    "#### El análisis del salario promedio según el nivel educativo revela una clara relación entre el nivel de educación y el salario promedio.\n",
    " \n",
    "No nos sorprende, ya que Canadá suele tener un sistema bastante gratificante desde un punto de vista meritocratico, o por lo menos es lo que se percibe desde aquí.\n",
    "\n",
    "Este grafico nos confirma que si una persona tiene un buen nivel de estudio, puede ambir a tener puestos de responsabilidad y mejores sueldos.\n",
    "\n",
    "#### Conclusión:\n",
    "Este análisis refuerza la idea de que la educación sigue siendo un factor determinante en las oportunidades salariales, por lo menos en Canadá. A medida que se aumenta el nivel educativo, el salario promedio tiende a aumentar, y esto se refleja en este conjunto de datos."
   ]
  },
  {
   "cell_type": "markdown",
   "metadata": {},
   "source": [
    "#### PREGUNTA 5:\n",
    "- ***¿Cuál es la proporción de clientes con diferentes tipos de tarjetas de fidelidad?***"
   ]
  },
  {
   "cell_type": "code",
   "execution_count": 115,
   "metadata": {},
   "outputs": [
    {
     "data": {
      "image/png": "[encoded data removed]",
      "text/plain": [
       "<Figure size 600x600 with 1 Axes>"
      ]
     },
     "metadata": {},
     "output_type": "display_data"
    }
   ],
   "source": [
    "# Gráfico de torta para mostrar la proporción de clientes con cada tipo de tarjeta:\n",
    "\n",
    "# Calculamos la proporción de clientes con cada tipo de tarjeta\n",
    "proporciones = df_combined_outer['loyalty_card'].value_counts(normalize=True)\n",
    "\n",
    "\n",
    "plt.figure(figsize=(6, 6))\n",
    "proporciones.plot(kind='pie', autopct='%1.1f%%', colors=sns.color_palette(\"Blues_d\", len(proporciones)))\n",
    "\n",
    "# Añadir título\n",
    "plt.title(\"Proporción de clientes con diferentes tipos de tarjetas de fidelidad\")\n",
    "plt.ylabel('')  # Eliminar la etiqueta del eje y\n",
    "\n",
    "# Mostrar el gráfico\n",
    "plt.show()\n"
   ]
  },
  {
   "cell_type": "markdown",
   "metadata": {},
   "source": [
    "La tarjeta de fidelidad más frecuente es la Star (45,4%), seguida por Nova (33,9%) y Aurora (20,7%)"
   ]
  },
  {
   "cell_type": "markdown",
   "metadata": {},
   "source": [
    "#### PREGUNTA 6:\n",
    "***¿Cómo se distribuyen los clientes según su estado civil y género?***"
   ]
  },
  {
   "cell_type": "code",
   "execution_count": 116,
   "metadata": {},
   "outputs": [
    {
     "data": {
      "image/png": "[encoded data removed]",
      "text/plain": [
       "<Figure size 1000x600 with 1 Axes>"
      ]
     },
     "metadata": {},
     "output_type": "display_data"
    },
    {
     "name": "stdout",
     "output_type": "stream",
     "text": [
      "  marital_status  gender   count  percentage\n",
      "0       Divorced  Female   30888    7.614934\n",
      "1       Divorced    Male   30288    7.467014\n",
      "2        Married  Female  117816   29.045619\n",
      "3        Married    Male  117984   29.087036\n",
      "4         Single  Female   54936   13.543577\n",
      "5         Single    Male   53712   13.241820\n"
     ]
    }
   ],
   "source": [
    "\n",
    "# Asegúrate de que no haya valores nulos en 'gender' y 'marital_status'\n",
    "df_combined_outer_clean = df_combined_outer.dropna(subset=['gender', 'marital_status'])\n",
    "\n",
    "# Contamos las ocurrencias de cada combinación\n",
    "conteo = df_combined_outer_clean.groupby(['marital_status', 'gender']).size().reset_index(name='count')\n",
    "\n",
    "# Calculamos el total de registros\n",
    "total = conteo['count'].sum()\n",
    "\n",
    "# Calculamos el porcentaje de cada combinación\n",
    "conteo['percentage'] = (conteo['count'] / total) * 100\n",
    "\n",
    "# Creamos un gráfico de barras para mostrar los porcentajes\n",
    "plt.figure(figsize=(10, 6))\n",
    "sns.barplot(x='marital_status', y='percentage', hue='gender', data=conteo, palette='Set2')\n",
    "\n",
    "# Títulos y etiquetas\n",
    "plt.title('Porcentaje de clientes por estado civil y género', fontsize=14)\n",
    "plt.xlabel('Estado Civil', fontsize=12)\n",
    "plt.ylabel('Porcentaje de clientes (%)', fontsize=12)\n",
    "plt.xticks(rotation=45)  # Rotar las etiquetas si es necesario\n",
    "\n",
    "# Mostrar el gráfico\n",
    "plt.show()\n",
    "\n",
    "# Imprimir los porcentajes (opcional, si quieres ver los valores numéricos)\n",
    "print(conteo)\n"
   ]
  },
  {
   "cell_type": "markdown",
   "metadata": {},
   "source": [
    "#### Distribución por estado civil:\n",
    "\n",
    "- El estado civil más común es el de casado (Married), que representa aproximadamente el 58.13% del total de clientes (sumando tanto a hombres como mujeres). Esto refleja una tendencia común en muchas poblaciones, donde el matrimonio es una de las situaciones más frecuentes.\n",
    "\n",
    "- Divorciados representan el 15.08% del total, con una ligera diferencia entre hombres y mujeres.\n",
    "\n",
    "- Finalmente, el grupo de solteros (Single) constituye el 26.78% de la base de clientes, siendo también un segmento bastante grande. Esto puede reflejar una muestra representativa de personas jóvenes, solteras o aquellos en procesos de cambio en sus vidas personales.\n",
    "\n",
    "#### Distribución por género:\n",
    "\n",
    "- Mujeres (Female) representan aproximadamente 57.34% del total de clientes, mientras que hombres (Male) constituyen el 42.66% restante. Aunque hay una ligera inclinación hacia la mayor representación femenina, la diferencia no es tan significativa.\n",
    "\n",
    "\n",
    "#### Conclusiones:\n",
    "La mayoría de los clientes están casados, lo cual es un reflejo de esta sociedad, las porcentajes son representativas de la población de Canadá.\n",
    "\n"
   ]
  }
 ],
 "metadata": {
  "kernelspec": {
   "display_name": "base",
   "language": "python",
   "name": "python3"
  },
  "language_info": {
   "codemirror_mode": {
    "name": "ipython",
    "version": 3
   },
   "file_extension": ".py",
   "mimetype": "text/x-python",
   "name": "python",
   "nbconvert_exporter": "python",
   "pygments_lexer": "ipython3",
   "version": "3.12.4"
  }
 },
 "nbformat": 4,
 "nbformat_minor": 2
}
